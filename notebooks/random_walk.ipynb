{
 "cells": [
  {
   "cell_type": "code",
   "execution_count": 2,
   "metadata": {},
   "outputs": [
    {
     "name": "stderr",
     "output_type": "stream",
     "text": [
      "Exception ignored in: <function Monitor.__del__ at 0x000001AAFA8751F8>\n",
      "Traceback (most recent call last):\n",
      "  File \"C:\\Users\\arthu\\Anaconda3\\lib\\site-packages\\gym\\wrappers\\monitor.py\", line 229, in __del__\n",
      "    self.close()\n",
      "  File \"C:\\Users\\arthu\\Anaconda3\\lib\\site-packages\\gym\\wrappers\\monitor.py\", line 134, in close\n",
      "    super(Monitor, self).close()\n",
      "  File \"C:\\Users\\arthu\\Anaconda3\\lib\\site-packages\\gym\\core.py\", line 238, in close\n",
      "    return self.env.close()\n",
      "  File \"C:\\Users\\arthu\\Anaconda3\\lib\\site-packages\\gym\\core.py\", line 238, in close\n",
      "    return self.env.close()\n",
      "  File \"C:\\Users\\arthu\\Anaconda3\\lib\\site-packages\\gym\\core.py\", line 238, in close\n",
      "    return self.env.close()\n",
      "  File \"C:\\Users\\arthu\\Anaconda3\\lib\\site-packages\\nes_py\\nes_env.py\", line 338, in close\n",
      "    raise ValueError('env has already been closed.')\n",
      "ValueError: env has already been closed.\n"
     ]
    }
   ],
   "source": [
    "from nes_py.wrappers import JoypadSpace\n",
    "import gym_super_mario_bros\n",
    "from gym_super_mario_bros.actions import SIMPLE_MOVEMENT\n",
    "from gym import wrappers\n",
    "\n",
    "env = gym_super_mario_bros.make('SuperMarioBros-v0')\n",
    "env = JoypadSpace(env, SIMPLE_MOVEMENT)\n",
    "\n",
    "state = env.reset()\n",
    "for step in range(500):\n",
    "    state, reward, done, info = env.step(env.action_space.sample())\n",
    "    env.render()\n",
    "env.close()"
   ]
  },
  {
   "cell_type": "code",
   "execution_count": null,
   "metadata": {},
   "outputs": [],
   "source": [
    "from nes_py.wrappers import JoypadSpace\n",
    "import gym_super_mario_bros\n",
    "from gym_super_mario_bros.actions import SIMPLE_MOVEMENT\n",
    "\n",
    "\n",
    "def simple_run(max_steps = 500):\n",
    "    env = gym_super_mario_bros.make('SuperMarioBros-v0')\n",
    "    env = JoypadSpace(env, SIMPLE_MOVEMENT)\n",
    "\n",
    "    total_reward = 0\n",
    "    patience = 3\n",
    "    resting = 0\n",
    "    x_pos = 0\n",
    "    state = env.reset()\n",
    "    prev_state = state\n",
    "    done = False\n",
    "    for step in range(max_steps):\n",
    "\n",
    "        next_state, reward, done, info = env.step(env.action_space.sample())\n",
    "        env.render()\n",
    "        total_reward += reward\n",
    "\n",
    "        if info['x_pos'] > x_pos:\n",
    "            x_pos = info['x_pos']\n",
    "            resting = 0\n",
    "\n",
    "        if abs(info['x_pos'] - x_pos) < 5:\n",
    "            resting += 1\n",
    "\n",
    "        if resting > patience*60:\n",
    "            total_reward += -20\n",
    "            env.close()\n",
    "            return total_reward\n",
    "\n",
    "        if info['life'] < 2: \n",
    "            total_reward += -40\n",
    "            env.close()\n",
    "            return total_reward\n",
    "    \n",
    "    env.close()\n",
    "    return total_reward"
   ]
  }
 ],
 "metadata": {
  "kernelspec": {
   "display_name": "Python 3",
   "language": "python",
   "name": "python3"
  },
  "language_info": {
   "codemirror_mode": {
    "name": "ipython",
    "version": 3
   },
   "file_extension": ".py",
   "mimetype": "text/x-python",
   "name": "python",
   "nbconvert_exporter": "python",
   "pygments_lexer": "ipython3",
   "version": "3.7.4"
  }
 },
 "nbformat": 4,
 "nbformat_minor": 2
}
