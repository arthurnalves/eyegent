{
 "cells": [
  {
   "cell_type": "code",
   "execution_count": 1,
   "metadata": {},
   "outputs": [],
   "source": [
    "def pxlocal(line, cell):\n",
    "    ip = get_ipython()\n",
    "    ip.run_cell_magic(\"px\", line, cell)\n",
    "    ip.run_cell(cell)\n",
    "get_ipython().register_magic_function(pxlocal, \"cell\")"
   ]
  },
  {
   "cell_type": "code",
   "execution_count": 2,
   "metadata": {},
   "outputs": [
    {
     "name": "stderr",
     "output_type": "stream",
     "text": [
      "Using TensorFlow backend.\n"
     ]
    }
   ],
   "source": [
    "import subprocess\n",
    "import ipyparallel as ipp\n",
    "import time\n",
    "from IPython.display import clear_output\n",
    "from agent import Agent\n",
    "import numpy as np\n",
    "import copy\n",
    "import matplotlib.pyplot as plt\n",
    "from IPython.display import clear_output\n",
    "\n",
    "class Generation:\n",
    "    \n",
    "    num_engines = None\n",
    "    num_survivors = None\n",
    "    agents_per_engine = None\n",
    "    size = None\n",
    "    agents = None\n",
    "    history = None\n",
    "    new_ID = None\n",
    "    rc = None\n",
    "    \n",
    "    \n",
    "    def __init__(self, size, num_survivors, freq = .25, intensity = .25, wait = 10):\n",
    "        self.size = size\n",
    "        self.num_survivors = num_survivors\n",
    "        self.agents = []\n",
    "        self.history = []\n",
    "        \n",
    "        self.start_engines(num_survivors)\n",
    "        \n",
    "        time.sleep(wait)\n",
    "        for ID in range(self.size):\n",
    "            self.agents.append(Agent(ID = ID, freq = freq, intensity = intensity))\n",
    "        self.new_ID = ID + 1\n",
    "        \n",
    "        self.rc = ipp.Client()\n",
    "    \n",
    "    def start_engines(self, num_engines):\n",
    "        self.num_engines = num_engines\n",
    "        self.agents_per_engine = self.size//self.num_engines\n",
    "        \n",
    "        subprocess.Popen([\"ipcluster\", \"stop\"])\n",
    "        time.sleep(5)\n",
    "        subprocess.Popen([\"ipcluster\", \"start\", \"-n={:d}\".format(num_engines)])\n",
    "     \n",
    "    def same_as_parent(self, pos):\n",
    "        ancestor_pos = pos//self.agents_per_engine*self.agents_per_engine\n",
    "        return ancestor_pos != pos and self.agents[ancestor_pos].total_reward == self.agents[pos].total_reward\n",
    "        \n",
    "    def get_ranking(self, similar_penalty = False):\n",
    "        ranking = []\n",
    "        for pos, agent in enumerate(self.agents):\n",
    "            reward = agent.get_reward()\n",
    "            if self.same_as_parent(pos) and similar_penalty:\n",
    "                reward/=2\n",
    "            ranking.append((pos, reward))\n",
    "        return ranking\n",
    "    \n",
    "    def get_survivors_pos(self):\n",
    "        ranking = self.get_ranking(similar_penalty = True)\n",
    "        survivors_ranking = sorted(ranking, reverse = True, key = lambda key: key[1])[:self.num_survivors]\n",
    "        return sorted(list(zip(*survivors_ranking))[0])\n",
    "    \n",
    "    def replace(self):\n",
    "        survivors_pos = self.get_survivors_pos()\n",
    "        for new_pos, old_pos in enumerate(survivors_pos):\n",
    "            self.agents.insert(new_pos*self.agents_per_engine, self.agents.pop(old_pos))\n",
    "    \n",
    "    def derive(self, parent_pos, child_pos):\n",
    "        self.agents[child_pos].copy_model(self.agents[parent_pos], new_ID = self.new_ID)\n",
    "        self.new_ID += 1\n",
    "        self.agents[child_pos].mutate()\n",
    "        self.agents[child_pos].total_reward = None\n",
    "        \n",
    "    def parallel_run(self, max_steps = 500):\n",
    "        dview = self.rc[:]\n",
    "        dview.scatter('agents', self.agents)\n",
    "        dview.push({'max_steps': max_steps})\n",
    "        %px rewards = [agent.get_reward() for agent in agents]\n",
    "        #%px rewards = [print(agent) for agent in agents]\n",
    "        return dview.gather('rewards').get()    \n",
    "    \n",
    "    \n",
    "    def replication(self, verbose = False):\n",
    "        for e in range(self.num_engines):\n",
    "            for a in range(1, self.agents_per_engine):\n",
    "                print(e*self.agents_per_engine, e*self.agents_per_engine + a)\n",
    "                self.derive(e*self.agents_per_engine, e*self.agents_per_engine + a)\n",
    "    \n",
    "    def evolution_step(self, max_steps = 500, chronometer = False, plot = False):\n",
    "        start_time = time.time()\n",
    "        if self.num_engines != None:\n",
    "            rewards = self.parallel_run(max_steps = max_steps)\n",
    "            \n",
    "        for agent, reward in zip(self.agents, rewards):\n",
    "            agent.reward = reward\n",
    "            \n",
    "        end_time = time.time()\n",
    "        \n",
    "        if chronometer:\n",
    "            print('Run time:', end_time - start_time)\n",
    "       \n",
    "        self.history.append(sorted(rewards, reverse = True))\n",
    "        \n",
    "        start_time = time.time()\n",
    "        self.replace()\n",
    "        self.replication(True)\n",
    "        end_time = time.time()\n",
    "        \n",
    "        if chronometer:\n",
    "            print('Replication time:', end_time - start_time)\n",
    "            \n",
    "        clear_output(wait = True)\n",
    "        if plot:\n",
    "            \n",
    "            plt.plot(self.history)\n",
    "            plt.show()"
   ]
  },
  {
   "cell_type": "code",
   "execution_count": 3,
   "metadata": {},
   "outputs": [],
   "source": [
    "generation = Generation(size = 20, num_survivors = 4, wait = 20)"
   ]
  },
  {
   "cell_type": "code",
   "execution_count": null,
   "metadata": {},
   "outputs": [
    {
     "data": {
      "image/png": "[encoded data removed]",
      "text/plain": [
       "<Figure size 432x288 with 1 Axes>"
      ]
     },
     "metadata": {
      "needs_background": "light"
     },
     "output_type": "display_data"
    }
   ],
   "source": [
    "for i in range(100):\n",
    "    generation.evolution_step(max_steps = (i//10 + 1)*100, chronometer = True, plot = True)"
   ]
  },
  {
   "cell_type": "code",
   "execution_count": null,
   "metadata": {},
   "outputs": [],
   "source": [
    "generation.agents[0].lineage"
   ]
  },
  {
   "cell_type": "code",
   "execution_count": null,
   "metadata": {},
   "outputs": [],
   "source": [
    "generation.agents[1].lineage"
   ]
  },
  {
   "cell_type": "code",
   "execution_count": null,
   "metadata": {},
   "outputs": [],
   "source": []
  }
 ],
 "metadata": {
  "kernelspec": {
   "display_name": "Python 3",
   "language": "python",
   "name": "python3"
  },
  "language_info": {
   "codemirror_mode": {
    "name": "ipython",
    "version": 3
   },
   "file_extension": ".py",
   "mimetype": "text/x-python",
   "name": "python",
   "nbconvert_exporter": "python",
   "pygments_lexer": "ipython3",
   "version": "3.7.4"
  }
 },
 "nbformat": 4,
 "nbformat_minor": 2
}
