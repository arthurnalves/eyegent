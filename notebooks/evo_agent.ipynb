{
 "cells": [
  {
   "cell_type": "code",
   "execution_count": 1,
   "metadata": {},
   "outputs": [
    {
     "name": "stderr",
     "output_type": "stream",
     "text": [
      "Using TensorFlow backend.\n"
     ]
    }
   ],
   "source": [
    "import sys\n",
    "sys.path.insert(1, 'C://Users//arthu//git//eyenes')\n",
    "from eyenes.generation import Generation\n",
    "import pickle\n",
    "import numpy as np"
   ]
  },
  {
   "cell_type": "code",
   "execution_count": 2,
   "metadata": {},
   "outputs": [],
   "source": [
    "dicto = {'size': 2, 'black_and_white': True, 'rom_id': 'SuperMarioBros-v0', 'max_steps': 3000, 'freq': .2, 'buffer': 3,\n",
    "        'layer_prob': .5, 'intensity': 10, 'fps': 3, 'patience': 5,\n",
    "        'num_survivors': 1, 'similar_penalty': 1, 'mode': 'sequential'}"
   ]
  },
  {
   "cell_type": "code",
   "execution_count": 3,
   "metadata": {},
   "outputs": [],
   "source": [
    "generation = Generation(**dicto)\n",
    "generation.create_standard_folders()"
   ]
  },
  {
   "cell_type": "code",
   "execution_count": 4,
   "metadata": {
    "scrolled": true
   },
   "outputs": [
    {
     "name": "stdout",
     "output_type": "stream",
     "text": [
      "Model: \"sequential_1\"\n",
      "_________________________________________________________________\n",
      "Layer (type)                 Output Shape              Param #   \n",
      "=================================================================\n",
      "lambda_1 (Lambda)            (1, 240, 256, 3)          0         \n",
      "_________________________________________________________________\n",
      "zero_padding2d_1 (ZeroPaddin (1, 256, 256, 3)          0         \n",
      "_________________________________________________________________\n",
      "average_pooling2d_1 (Average (1, 128, 128, 3)          0         \n",
      "_________________________________________________________________\n",
      "separable_conv2d_1 (Separabl (1, 32, 32, 3)            60        \n",
      "_________________________________________________________________\n",
      "activation_1 (Activation)    (1, 32, 32, 3)            0         \n",
      "_________________________________________________________________\n",
      "conv2d_1 (Conv2D)            (1, 16, 16, 6)            4614      \n",
      "_________________________________________________________________\n",
      "activation_2 (Activation)    (1, 16, 16, 6)            0         \n",
      "_________________________________________________________________\n",
      "conv2d_2 (Conv2D)            (1, 8, 8, 12)             4620      \n",
      "_________________________________________________________________\n",
      "activation_3 (Activation)    (1, 8, 8, 12)             0         \n",
      "_________________________________________________________________\n",
      "flatten_1 (Flatten)          (1, 768)                  0         \n",
      "_________________________________________________________________\n",
      "dense_1 (Dense)              (1, 400)                  307600    \n",
      "_________________________________________________________________\n",
      "activation_4 (Activation)    (1, 400)                  0         \n",
      "_________________________________________________________________\n",
      "dense_2 (Dense)              (1, 20)                   8020      \n",
      "_________________________________________________________________\n",
      "activation_5 (Activation)    (1, 20)                   0         \n",
      "_________________________________________________________________\n",
      "dense_3 (Dense)              (1, 12)                   252       \n",
      "=================================================================\n",
      "Total params: 325,166\n",
      "Trainable params: 325,166\n",
      "Non-trainable params: 0\n",
      "_________________________________________________________________\n"
     ]
    }
   ],
   "source": [
    "generation.agents[0].model.model.summary()"
   ]
  },
  {
   "cell_type": "code",
   "execution_count": null,
   "metadata": {},
   "outputs": [],
   "source": [
    "def safe_reward(agent):\n",
    "    if agent.total_reward is not None:\n",
    "        return agent.total_reward\n",
    "    else:\n",
    "        return -1"
   ]
  },
  {
   "cell_type": "code",
   "execution_count": 20,
   "metadata": {
    "scrolled": false
   },
   "outputs": [
    {
     "data": {
      "image/png": "[encoded data removed]",
      "text/plain": [
       "<Figure size 432x288 with 1 Axes>"
      ]
     },
     "metadata": {
      "needs_background": "light"
     },
     "output_type": "display_data"
    },
    {
     "data": {
      "image/png": "[encoded data removed]",
      "text/plain": [
       "<Figure size 432x288 with 1 Axes>"
      ]
     },
     "metadata": {
      "needs_background": "light"
     },
     "output_type": "display_data"
    },
    {
     "name": "stderr",
     "output_type": "stream",
     "text": [
      "C:\\Users\\arthu\\Anaconda3\\lib\\site-packages\\gym_super_mario_bros\\smb_env.py:148: RuntimeWarning: overflow encountered in ubyte_scalars\n",
      "  return (self.ram[0x86] - self.ram[0x071c]) % 256\n"
     ]
    },
    {
     "data": {
      "text/html": [
       "<video src=\"./gym-results/openaigym.video.3.18988.video000000.mp4\" controls  width=\"600\"  height=\"450\">\n",
       "      Your browser does not support the <code>video</code> element.\n",
       "    </video>"
      ],
      "text/plain": [
       "<IPython.core.display.Video object>"
      ]
     },
     "metadata": {},
     "output_type": "display_data"
    }
   ],
   "source": [
    "for i in range(1):\n",
    "    generation.evolution_step(plot = True)    \n",
    "    rewards = [safe_reward(agent) for agent in generation.agents]\n",
    "    generation.agents[np.argmax(rewards)].run(mode = 'monitor')\n",
    "    generation.save_generation()"
   ]
  },
  {
   "cell_type": "code",
   "execution_count": 22,
   "metadata": {},
   "outputs": [],
   "source": [
    "import gym_super_mario_bros\n",
    "from eyenes.custom_joypad import CustomJoypad"
   ]
  },
  {
   "cell_type": "code",
   "execution_count": 24,
   "metadata": {},
   "outputs": [],
   "source": [
    "env = gym_super_mario_bros.make('SuperMarioBros-v0')\n",
    "env = CustomJoypad(env)"
   ]
  },
  {
   "cell_type": "code",
   "execution_count": null,
   "metadata": {},
   "outputs": [],
   "source": []
  }
 ],
 "metadata": {
  "kernelspec": {
   "display_name": "Python 3",
   "language": "python",
   "name": "python3"
  },
  "language_info": {
   "codemirror_mode": {
    "name": "ipython",
    "version": 3
   },
   "file_extension": ".py",
   "mimetype": "text/x-python",
   "name": "python",
   "nbconvert_exporter": "python",
   "pygments_lexer": "ipython3",
   "version": "3.7.4"
  }
 },
 "nbformat": 4,
 "nbformat_minor": 2
}
