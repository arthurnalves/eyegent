{
 "cells": [
  {
   "cell_type": "code",
   "execution_count": 8,
   "metadata": {},
   "outputs": [
    {
     "name": "stdout",
     "output_type": "stream",
     "text": [
      "[0, 1, 2, 3, 4, 5, 6, 7]\n"
     ]
    }
   ],
   "source": [
    "import ipyparallel as ipp\n",
    "\n",
    "client = ipp.Client()\n",
    "\n",
    "dview = client[:]\n",
    "\n",
    "print(client.ids)"
   ]
  },
  {
   "cell_type": "code",
   "execution_count": 13,
   "metadata": {},
   "outputs": [
    {
     "name": "stdout",
     "output_type": "stream",
     "text": [
      "importing lazy_agent on engine(s)\n"
     ]
    }
   ],
   "source": [
    "with dview.sync_imports():\n",
    "    import lazy_agent"
   ]
  },
  {
   "cell_type": "code",
   "execution_count": 9,
   "metadata": {},
   "outputs": [],
   "source": [
    "from lazy_agent import *\n",
    "import pickle\n",
    "\n",
    "#generation = pickle.load(open('protec_gen.pkl', 'rb'))\n",
    "generation = [mario_agent((256, 240, 2), 12) for _ in range(8)]\n",
    "#agent = mario_agent((256, 240, 2), 12)"
   ]
  },
  {
   "cell_type": "code",
   "execution_count": 10,
   "metadata": {},
   "outputs": [
    {
     "data": {
      "text/plain": [
       "231"
      ]
     },
     "execution_count": 10,
     "metadata": {},
     "output_type": "execute_result"
    }
   ],
   "source": [
    "generation[0].play(return_fitness = True)"
   ]
  },
  {
   "cell_type": "code",
   "execution_count": 34,
   "metadata": {},
   "outputs": [
    {
     "name": "stdout",
     "output_type": "stream",
     "text": [
      "Wall time: 250 ms\n"
     ]
    },
    {
     "data": {
      "text/plain": [
       "[None, None, None, None, None, None, None, None]"
      ]
     },
     "execution_count": 34,
     "metadata": {},
     "output_type": "execute_result"
    }
   ],
   "source": [
    "%%time\n",
    "\n",
    "dview.scatter('generation', generation).get()\n",
    "dview.push({'coisas': range(64)}).get()\n",
    "#dview.push({'agent': agent}).get()\n",
    "#dview.push({'generation': generation}).get()"
   ]
  },
  {
   "cell_type": "code",
   "execution_count": 38,
   "metadata": {},
   "outputs": [
    {
     "ename": "CompositeError",
     "evalue": "one or more exceptions from call to method: _pull\n[0:apply]: NameError: name 'coisas' is not defined\n[1:apply]: NameError: name 'coisas' is not defined\n[2:apply]: NameError: name 'coisas' is not defined\n[3:apply]: NameError: name 'coisas' is not defined\n.... 4 more exceptions ...",
     "output_type": "error",
     "traceback": [
      "[0:apply]: ",
      "\u001b[1;31m---------------------------------------------------------------------------\u001b[0m\u001b[1;31mNameError\u001b[0m                                 Traceback (most recent call last)\u001b[1;32m<string>\u001b[0m in \u001b[0;36m<module>\u001b[1;34m\u001b[0m",
      "\u001b[1;32m~\\Anaconda3\\lib\\site-packages\\ipykernel_launcher.py\u001b[0m in \u001b[0;36m_pull\u001b[1;34m(keys)\u001b[0m",
      "\u001b[0;32m    316\u001b[0m         \u001b[1;32mreturn\u001b[0m \u001b[1;33m[\u001b[0m\u001b[0meval\u001b[0m\u001b[1;33m(\u001b[0m\u001b[0mkey\u001b[0m\u001b[1;33m,\u001b[0m \u001b[0mglobals\u001b[0m\u001b[1;33m(\u001b[0m\u001b[1;33m)\u001b[0m\u001b[1;33m)\u001b[0m \u001b[1;32mfor\u001b[0m \u001b[0mkey\u001b[0m \u001b[1;32min\u001b[0m \u001b[0mkeys\u001b[0m\u001b[1;33m]\u001b[0m\u001b[1;33m\u001b[0m\u001b[1;33m\u001b[0m\u001b[0m",
      "\u001b[0;32m    317\u001b[0m     \u001b[1;32melse\u001b[0m\u001b[1;33m:\u001b[0m\u001b[1;33m\u001b[0m\u001b[1;33m\u001b[0m\u001b[0m",
      "\u001b[1;32m--> 318\u001b[1;33m         \u001b[1;32mreturn\u001b[0m \u001b[0meval\u001b[0m\u001b[1;33m(\u001b[0m\u001b[0mkeys\u001b[0m\u001b[1;33m,\u001b[0m \u001b[0mglobals\u001b[0m\u001b[1;33m(\u001b[0m\u001b[1;33m)\u001b[0m\u001b[1;33m)\u001b[0m\u001b[1;33m\u001b[0m\u001b[1;33m\u001b[0m\u001b[0m",
      "\u001b[0m\u001b[0;32m    319\u001b[0m \u001b[1;33m\u001b[0m\u001b[0m",
      "\u001b[0;32m    320\u001b[0m \u001b[1;33m@\u001b[0m\u001b[0minteractive\u001b[0m\u001b[1;33m\u001b[0m\u001b[1;33m\u001b[0m\u001b[0m",
      "\u001b[1;32m~\\Anaconda3\\lib\\site-packages\\ipykernel_launcher.py\u001b[0m in \u001b[0;36m<module>\u001b[1;34m\u001b[0m",
      "\u001b[1;31mNameError\u001b[0m: name 'coisas' is not defined",
      "",
      "[1:apply]: ",
      "\u001b[1;31m---------------------------------------------------------------------------\u001b[0m\u001b[1;31mNameError\u001b[0m                                 Traceback (most recent call last)\u001b[1;32m<string>\u001b[0m in \u001b[0;36m<module>\u001b[1;34m\u001b[0m",
      "\u001b[1;32m~\\Anaconda3\\lib\\site-packages\\ipykernel_launcher.py\u001b[0m in \u001b[0;36m_pull\u001b[1;34m(keys)\u001b[0m",
      "\u001b[0;32m    316\u001b[0m         \u001b[1;32mreturn\u001b[0m \u001b[1;33m[\u001b[0m\u001b[0meval\u001b[0m\u001b[1;33m(\u001b[0m\u001b[0mkey\u001b[0m\u001b[1;33m,\u001b[0m \u001b[0mglobals\u001b[0m\u001b[1;33m(\u001b[0m\u001b[1;33m)\u001b[0m\u001b[1;33m)\u001b[0m \u001b[1;32mfor\u001b[0m \u001b[0mkey\u001b[0m \u001b[1;32min\u001b[0m \u001b[0mkeys\u001b[0m\u001b[1;33m]\u001b[0m\u001b[1;33m\u001b[0m\u001b[1;33m\u001b[0m\u001b[0m",
      "\u001b[0;32m    317\u001b[0m     \u001b[1;32melse\u001b[0m\u001b[1;33m:\u001b[0m\u001b[1;33m\u001b[0m\u001b[1;33m\u001b[0m\u001b[0m",
      "\u001b[1;32m--> 318\u001b[1;33m         \u001b[1;32mreturn\u001b[0m \u001b[0meval\u001b[0m\u001b[1;33m(\u001b[0m\u001b[0mkeys\u001b[0m\u001b[1;33m,\u001b[0m \u001b[0mglobals\u001b[0m\u001b[1;33m(\u001b[0m\u001b[1;33m)\u001b[0m\u001b[1;33m)\u001b[0m\u001b[1;33m\u001b[0m\u001b[1;33m\u001b[0m\u001b[0m",
      "\u001b[0m\u001b[0;32m    319\u001b[0m \u001b[1;33m\u001b[0m\u001b[0m",
      "\u001b[0;32m    320\u001b[0m \u001b[1;33m@\u001b[0m\u001b[0minteractive\u001b[0m\u001b[1;33m\u001b[0m\u001b[1;33m\u001b[0m\u001b[0m",
      "\u001b[1;32m~\\Anaconda3\\lib\\site-packages\\ipykernel_launcher.py\u001b[0m in \u001b[0;36m<module>\u001b[1;34m\u001b[0m",
      "\u001b[1;31mNameError\u001b[0m: name 'coisas' is not defined",
      "",
      "[2:apply]: ",
      "\u001b[1;31m---------------------------------------------------------------------------\u001b[0m\u001b[1;31mNameError\u001b[0m                                 Traceback (most recent call last)\u001b[1;32m<string>\u001b[0m in \u001b[0;36m<module>\u001b[1;34m\u001b[0m",
      "\u001b[1;32m~\\Anaconda3\\lib\\site-packages\\ipykernel_launcher.py\u001b[0m in \u001b[0;36m_pull\u001b[1;34m(keys)\u001b[0m",
      "\u001b[0;32m    316\u001b[0m         \u001b[1;32mreturn\u001b[0m \u001b[1;33m[\u001b[0m\u001b[0meval\u001b[0m\u001b[1;33m(\u001b[0m\u001b[0mkey\u001b[0m\u001b[1;33m,\u001b[0m \u001b[0mglobals\u001b[0m\u001b[1;33m(\u001b[0m\u001b[1;33m)\u001b[0m\u001b[1;33m)\u001b[0m \u001b[1;32mfor\u001b[0m \u001b[0mkey\u001b[0m \u001b[1;32min\u001b[0m \u001b[0mkeys\u001b[0m\u001b[1;33m]\u001b[0m\u001b[1;33m\u001b[0m\u001b[1;33m\u001b[0m\u001b[0m",
      "\u001b[0;32m    317\u001b[0m     \u001b[1;32melse\u001b[0m\u001b[1;33m:\u001b[0m\u001b[1;33m\u001b[0m\u001b[1;33m\u001b[0m\u001b[0m",
      "\u001b[1;32m--> 318\u001b[1;33m         \u001b[1;32mreturn\u001b[0m \u001b[0meval\u001b[0m\u001b[1;33m(\u001b[0m\u001b[0mkeys\u001b[0m\u001b[1;33m,\u001b[0m \u001b[0mglobals\u001b[0m\u001b[1;33m(\u001b[0m\u001b[1;33m)\u001b[0m\u001b[1;33m)\u001b[0m\u001b[1;33m\u001b[0m\u001b[1;33m\u001b[0m\u001b[0m",
      "\u001b[0m\u001b[0;32m    319\u001b[0m \u001b[1;33m\u001b[0m\u001b[0m",
      "\u001b[0;32m    320\u001b[0m \u001b[1;33m@\u001b[0m\u001b[0minteractive\u001b[0m\u001b[1;33m\u001b[0m\u001b[1;33m\u001b[0m\u001b[0m",
      "\u001b[1;32m~\\Anaconda3\\lib\\site-packages\\ipykernel_launcher.py\u001b[0m in \u001b[0;36m<module>\u001b[1;34m\u001b[0m",
      "\u001b[1;31mNameError\u001b[0m: name 'coisas' is not defined",
      "",
      "[3:apply]: ",
      "\u001b[1;31m---------------------------------------------------------------------------\u001b[0m\u001b[1;31mNameError\u001b[0m                                 Traceback (most recent call last)\u001b[1;32m<string>\u001b[0m in \u001b[0;36m<module>\u001b[1;34m\u001b[0m",
      "\u001b[1;32m~\\Anaconda3\\lib\\site-packages\\ipykernel_launcher.py\u001b[0m in \u001b[0;36m_pull\u001b[1;34m(keys)\u001b[0m",
      "\u001b[0;32m    316\u001b[0m         \u001b[1;32mreturn\u001b[0m \u001b[1;33m[\u001b[0m\u001b[0meval\u001b[0m\u001b[1;33m(\u001b[0m\u001b[0mkey\u001b[0m\u001b[1;33m,\u001b[0m \u001b[0mglobals\u001b[0m\u001b[1;33m(\u001b[0m\u001b[1;33m)\u001b[0m\u001b[1;33m)\u001b[0m \u001b[1;32mfor\u001b[0m \u001b[0mkey\u001b[0m \u001b[1;32min\u001b[0m \u001b[0mkeys\u001b[0m\u001b[1;33m]\u001b[0m\u001b[1;33m\u001b[0m\u001b[1;33m\u001b[0m\u001b[0m",
      "\u001b[0;32m    317\u001b[0m     \u001b[1;32melse\u001b[0m\u001b[1;33m:\u001b[0m\u001b[1;33m\u001b[0m\u001b[1;33m\u001b[0m\u001b[0m",
      "\u001b[1;32m--> 318\u001b[1;33m         \u001b[1;32mreturn\u001b[0m \u001b[0meval\u001b[0m\u001b[1;33m(\u001b[0m\u001b[0mkeys\u001b[0m\u001b[1;33m,\u001b[0m \u001b[0mglobals\u001b[0m\u001b[1;33m(\u001b[0m\u001b[1;33m)\u001b[0m\u001b[1;33m)\u001b[0m\u001b[1;33m\u001b[0m\u001b[1;33m\u001b[0m\u001b[0m",
      "\u001b[0m\u001b[0;32m    319\u001b[0m \u001b[1;33m\u001b[0m\u001b[0m",
      "\u001b[0;32m    320\u001b[0m \u001b[1;33m@\u001b[0m\u001b[0minteractive\u001b[0m\u001b[1;33m\u001b[0m\u001b[1;33m\u001b[0m\u001b[0m",
      "\u001b[1;32m~\\Anaconda3\\lib\\site-packages\\ipykernel_launcher.py\u001b[0m in \u001b[0;36m<module>\u001b[1;34m\u001b[0m",
      "\u001b[1;31mNameError\u001b[0m: name 'coisas' is not defined",
      "",
      "... 4 more exceptions ..."
     ]
    }
   ],
   "source": [
    "dview['coisas']"
   ]
  },
  {
   "cell_type": "code",
   "execution_count": 17,
   "metadata": {},
   "outputs": [
    {
     "name": "stdout",
     "output_type": "stream",
     "text": [
      "Wall time: 10.8 s\n"
     ]
    }
   ],
   "source": [
    "%%time\n",
    "\n",
    "fitness_list = dview.map_async(lambda x: generation[0].play(return_fitness = True), range(8)).get()"
   ]
  },
  {
   "cell_type": "code",
   "execution_count": 21,
   "metadata": {},
   "outputs": [
    {
     "name": "stdout",
     "output_type": "stream",
     "text": [
      "Wall time: 22.9 s\n"
     ]
    }
   ],
   "source": [
    "%%time\n",
    "\n",
    "for agent in generation:\n",
    "    agent.play(return_fitness = True)"
   ]
  },
  {
   "cell_type": "code",
   "execution_count": 20,
   "metadata": {},
   "outputs": [
    {
     "data": {
      "text/plain": [
       "[231, -57, 231, -97, -97, -97, -97, -97]"
      ]
     },
     "execution_count": 20,
     "metadata": {},
     "output_type": "execute_result"
    }
   ],
   "source": [
    "fitness_list"
   ]
  },
  {
   "cell_type": "code",
   "execution_count": 39,
   "metadata": {},
   "outputs": [
    {
     "data": {
      "text/plain": [
       "['__class__',\n",
       " '__del__',\n",
       " '__delattr__',\n",
       " '__dict__',\n",
       " '__dir__',\n",
       " '__doc__',\n",
       " '__eq__',\n",
       " '__format__',\n",
       " '__ge__',\n",
       " '__getattribute__',\n",
       " '__getitem__',\n",
       " '__getstate__',\n",
       " '__gt__',\n",
       " '__hash__',\n",
       " '__init__',\n",
       " '__init_subclass__',\n",
       " '__iter__',\n",
       " '__le__',\n",
       " '__len__',\n",
       " '__lt__',\n",
       " '__module__',\n",
       " '__ne__',\n",
       " '__new__',\n",
       " '__reduce__',\n",
       " '__reduce_ex__',\n",
       " '__repr__',\n",
       " '__setattr__',\n",
       " '__setstate__',\n",
       " '__sizeof__',\n",
       " '__str__',\n",
       " '__subclasshook__',\n",
       " '__weakref__',\n",
       " '_add_notifiers',\n",
       " '_asyncresult_from_jobs',\n",
       " '_await_futures',\n",
       " '_build_targets',\n",
       " '_cd',\n",
       " '_closed',\n",
       " '_config',\n",
       " '_connect',\n",
       " '_connected',\n",
       " '_context',\n",
       " '_control_socket',\n",
       " '_control_stream',\n",
       " '_cross_validation_lock',\n",
       " '_dispatch_iopub',\n",
       " '_dispatch_notification',\n",
       " '_dispatch_reply',\n",
       " '_dispatch_single_reply',\n",
       " '_engines',\n",
       " '_extract_metadata',\n",
       " '_futures',\n",
       " '_futures_for_msgs',\n",
       " '_handle_apply_reply',\n",
       " '_handle_execute_reply',\n",
       " '_handle_stranded_msgs',\n",
       " '_ids',\n",
       " '_io_loop',\n",
       " '_io_main',\n",
       " '_io_thread',\n",
       " '_iopub_socket',\n",
       " '_iopub_stream',\n",
       " '_make_io_loop',\n",
       " '_maybe_raise',\n",
       " '_msg_ids_from_jobs',\n",
       " '_msg_ids_from_target',\n",
       " '_mux_socket',\n",
       " '_mux_stream',\n",
       " '_notification_handlers',\n",
       " '_notification_socket',\n",
       " '_notification_stream',\n",
       " '_notify_trait',\n",
       " '_output_futures',\n",
       " '_outstanding_dict',\n",
       " '_profile_default',\n",
       " '_query_socket',\n",
       " '_query_stream',\n",
       " '_queue_handlers',\n",
       " '_register_engine',\n",
       " '_register_validator',\n",
       " '_remove_notifiers',\n",
       " '_send',\n",
       " '_send_recv',\n",
       " '_setup_profile_dir',\n",
       " '_setup_streams',\n",
       " '_ssh',\n",
       " '_start_io_thread',\n",
       " '_stop_io_thread',\n",
       " '_stop_scheduling_tasks',\n",
       " '_task_scheme',\n",
       " '_task_socket',\n",
       " '_task_stream',\n",
       " '_trait_default_generators',\n",
       " '_trait_notifiers',\n",
       " '_trait_validators',\n",
       " '_trait_values',\n",
       " '_unregister_engine',\n",
       " '_unwrap_exception',\n",
       " '_update_engines',\n",
       " 'abort',\n",
       " 'activate',\n",
       " 'add_traits',\n",
       " 'become_dask',\n",
       " 'become_distributed',\n",
       " 'block',\n",
       " 'class_own_trait_events',\n",
       " 'class_own_traits',\n",
       " 'class_trait_names',\n",
       " 'class_traits',\n",
       " 'clear',\n",
       " 'close',\n",
       " 'cross_validation_lock',\n",
       " 'db_query',\n",
       " 'debug',\n",
       " 'direct_view',\n",
       " 'executor',\n",
       " 'get_result',\n",
       " 'has_trait',\n",
       " 'history',\n",
       " 'hold_trait_notifications',\n",
       " 'hub_history',\n",
       " 'ids',\n",
       " 'load_balanced_view',\n",
       " 'metadata',\n",
       " 'notify_change',\n",
       " 'observe',\n",
       " 'on_trait_change',\n",
       " 'outstanding',\n",
       " 'profile',\n",
       " 'purge_everything',\n",
       " 'purge_hub_results',\n",
       " 'purge_local_results',\n",
       " 'purge_results',\n",
       " 'queue_status',\n",
       " 'resubmit',\n",
       " 'result_status',\n",
       " 'results',\n",
       " 'send_apply_request',\n",
       " 'send_execute_request',\n",
       " 'session',\n",
       " 'set_trait',\n",
       " 'setup_instance',\n",
       " 'shutdown',\n",
       " 'spin',\n",
       " 'spin_thread',\n",
       " 'stop_dask',\n",
       " 'stop_distributed',\n",
       " 'stop_spin_thread',\n",
       " 'trait_events',\n",
       " 'trait_metadata',\n",
       " 'trait_names',\n",
       " 'traits',\n",
       " 'unobserve',\n",
       " 'unobserve_all',\n",
       " 'wait',\n",
       " 'wait_interactive']"
      ]
     },
     "execution_count": 39,
     "metadata": {},
     "output_type": "execute_result"
    }
   ],
   "source": [
    "dir(client)"
   ]
  },
  {
   "cell_type": "code",
   "execution_count": 41,
   "metadata": {},
   "outputs": [
    {
     "data": {
      "text/plain": [
       "'default'"
      ]
     },
     "execution_count": 41,
     "metadata": {},
     "output_type": "execute_result"
    }
   ],
   "source": [
    "client.profile"
   ]
  },
  {
   "cell_type": "code",
   "execution_count": null,
   "metadata": {},
   "outputs": [],
   "source": []
  }
 ],
 "metadata": {
  "kernelspec": {
   "display_name": "Python 3",
   "language": "python",
   "name": "python3"
  },
  "language_info": {
   "codemirror_mode": {
    "name": "ipython",
    "version": 3
   },
   "file_extension": ".py",
   "mimetype": "text/x-python",
   "name": "python",
   "nbconvert_exporter": "python",
   "pygments_lexer": "ipython3",
   "version": "3.7.3"
  }
 },
 "nbformat": 4,
 "nbformat_minor": 2
}
