{
 "cells": [
  {
   "cell_type": "code",
   "execution_count": 1,
   "metadata": {},
   "outputs": [
    {
     "data": {
      "application/vnd.jupyter.widget-view+json": {
       "model_id": "e09a64bf072e4c558db5ad56e18e520f",
       "version_major": 2,
       "version_minor": 0
      },
      "text/plain": [
       "interactive(children=(Play(value=0, description='i', interval=25, max=1999), VBox(children=(HBox(children=(Out…"
      ]
     },
     "metadata": {},
     "output_type": "display_data"
    }
   ],
   "source": [
    "from copy import copy\n",
    "from PIL import Image\n",
    "from nes_py.wrappers import JoypadSpace\n",
    "from nes_py.app.play_human import play_human\n",
    "import gym_super_mario_bros\n",
    "from gym_super_mario_bros.actions import SIMPLE_MOVEMENT\n",
    "\n",
    "agents = ['']*4\n",
    "for a, agent in enumerate(agents):\n",
    "    env = gym_super_mario_bros.make('SuperMarioBros-v0')\n",
    "    env = JoypadSpace(env, SIMPLE_MOVEMENT)\n",
    "    env.reset()\n",
    "    frames = []\n",
    "    for _ in range(2000):\n",
    "        frames.append(copy(env.render(mode='rgb_array'))) # just update the data\n",
    "        action = env.action_space.sample()\n",
    "        env.step(action)\n",
    "    env.close()\n",
    "    agents[a] = [Image.fromarray(frame) for frame in frames]\n",
    "\n",
    "from matplotlib import pyplot as plt\n",
    "import numpy as np\n",
    "from PIL import Image\n",
    "from ipywidgets import Play, interactive, IntSlider, widgets\n",
    "from IPython import display\n",
    "\n",
    "images = [Image.fromarray(frame) for frame in frames]\n",
    "\n",
    "play = Play(\n",
    "    value=0,\n",
    "    min=0,\n",
    "    max=len(images)-1,\n",
    "    step=1,\n",
    "    interval=25,\n",
    ")\n",
    "\n",
    "output = ['']*len(agents)\n",
    "for g, images in enumerate(agents):\n",
    "    def display_agent(g):\n",
    "        def display_image(i):\n",
    "            display.display(agents[g][i])\n",
    "        return display_image\n",
    "    interactive_plot = interactive(display_agent(g), i=play)\n",
    "    output[g] = interactive_plot.children[-1]\n",
    "    \n",
    "interactive_plot.children = (play, widgets.VBox([widgets.HBox([output[0], output[1]]), widgets.HBox([output[2], output[3]])]))\n",
    "\n",
    "interactive_plot"
   ]
  },
  {
   "cell_type": "code",
   "execution_count": null,
   "metadata": {},
   "outputs": [],
   "source": []
  }
 ],
 "metadata": {
  "kernelspec": {
   "display_name": "Python 3",
   "language": "python",
   "name": "python3"
  },
  "language_info": {
   "codemirror_mode": {
    "name": "ipython",
    "version": 3
   },
   "file_extension": ".py",
   "mimetype": "text/x-python",
   "name": "python",
   "nbconvert_exporter": "python",
   "pygments_lexer": "ipython3",
   "version": "3.8.3"
  }
 },
 "nbformat": 4,
 "nbformat_minor": 4
}
