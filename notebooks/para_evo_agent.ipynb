{
 "cells": [
  {
   "cell_type": "code",
   "execution_count": 1,
   "metadata": {},
   "outputs": [
    {
     "name": "stderr",
     "output_type": "stream",
     "text": [
      "Using TensorFlow backend.\n"
     ]
    }
   ],
   "source": [
    "import sys\n",
    "sys.path.insert(1, 'C://Users//arthu//git//eyenes//eyenes')\n",
    "from gen_class import Generation\n",
    "import pickle\n",
    "import numpy as np\n",
    "import subprocess\n",
    "import time\n",
    "from IPython.display import clear_output\n",
    "import ipyparallel as ipp"
   ]
  },
  {
   "cell_type": "code",
   "execution_count": 2,
   "metadata": {},
   "outputs": [],
   "source": [
    "mode = 'parallel'\n",
    "hyper_params = {'size': 64, 'num_survivors': 16, 'mode': mode, 'path_name': 'C://Users//arthu//git//eyenes//eyenes'}"
   ]
  },
  {
   "cell_type": "code",
   "execution_count": 3,
   "metadata": {},
   "outputs": [],
   "source": [
    "generation = Generation(**hyper_params)"
   ]
  },
  {
   "cell_type": "code",
   "execution_count": 4,
   "metadata": {
    "scrolled": false
   },
   "outputs": [
    {
     "name": "stdout",
     "output_type": "stream",
     "text": [
      "Model: \"sequential_1\"\n",
      "_________________________________________________________________\n",
      "Layer (type)                 Output Shape              Param #   \n",
      "=================================================================\n",
      "lambda_1 (Lambda)            (1, 240, 256, 3)          0         \n",
      "_________________________________________________________________\n",
      "zero_padding2d_1 (ZeroPaddin (1, 256, 256, 3)          0         \n",
      "_________________________________________________________________\n",
      "average_pooling2d_1 (Average (1, 128, 128, 3)          0         \n",
      "_________________________________________________________________\n",
      "separable_conv2d_1 (Separabl (1, 32, 32, 3)            60        \n",
      "_________________________________________________________________\n",
      "conv2d_1 (Conv2D)            (1, 16, 16, 12)           588       \n",
      "_________________________________________________________________\n",
      "conv2d_2 (Conv2D)            (1, 8, 8, 24)             4632      \n",
      "_________________________________________________________________\n",
      "conv2d_3 (Conv2D)            (1, 4, 4, 48)             18480     \n",
      "_________________________________________________________________\n",
      "flatten_1 (Flatten)          (1, 768)                  0         \n",
      "_________________________________________________________________\n",
      "dense_1 (Dense)              (1, 100)                  76900     \n",
      "_________________________________________________________________\n",
      "dense_2 (Dense)              (1, 100)                  10100     \n",
      "_________________________________________________________________\n",
      "dense_3 (Dense)              (1, 100)                  10100     \n",
      "_________________________________________________________________\n",
      "dense_4 (Dense)              (1, 100)                  10100     \n",
      "_________________________________________________________________\n",
      "dense_5 (Dense)              (1, 100)                  10100     \n",
      "_________________________________________________________________\n",
      "dense_6 (Dense)              (1, 10)                   1010      \n",
      "_________________________________________________________________\n",
      "dense_7 (Dense)              (1, 4)                    44        \n",
      "=================================================================\n",
      "Total params: 142,114\n",
      "Trainable params: 142,114\n",
      "Non-trainable params: 0\n",
      "_________________________________________________________________\n"
     ]
    }
   ],
   "source": [
    "generation.agents[0].model.model.summary()"
   ]
  },
  {
   "cell_type": "code",
   "execution_count": 5,
   "metadata": {},
   "outputs": [
    {
     "name": "stdout",
     "output_type": "stream",
     "text": [
      "Clusters started\n",
      "importing Generation from gen_class on engine(s)\n"
     ]
    }
   ],
   "source": [
    "generation.start_engines()\n",
    "\n",
    "# Workaround for custom module import\n",
    "dview = generation.rc[:]\n",
    "@dview.remote(block=True)\n",
    "def remote_add(path_name):\n",
    "    import sys\n",
    "    sys.path.insert(1, path_name)\n",
    "    return path_name    \n",
    "remote_add(generation.path_name)\n",
    "\n",
    "generation.remote_import()"
   ]
  },
  {
   "cell_type": "code",
   "execution_count": null,
   "metadata": {
    "scrolled": false
   },
   "outputs": [],
   "source": [
    "for i in range(1000):\n",
    "    generation.evolution_step(plot = True, monitor = True)\n",
    "    generation.save_generation()"
   ]
  },
  {
   "cell_type": "code",
   "execution_count": null,
   "metadata": {},
   "outputs": [],
   "source": []
  }
 ],
 "metadata": {
  "kernelspec": {
   "display_name": "Python 3",
   "language": "python",
   "name": "python3"
  },
  "language_info": {
   "codemirror_mode": {
    "name": "ipython",
    "version": 3
   },
   "file_extension": ".py",
   "mimetype": "text/x-python",
   "name": "python",
   "nbconvert_exporter": "python",
   "pygments_lexer": "ipython3",
   "version": "3.7.4"
  }
 },
 "nbformat": 4,
 "nbformat_minor": 2
}
