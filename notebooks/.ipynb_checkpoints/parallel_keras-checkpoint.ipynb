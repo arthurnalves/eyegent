{
 "cells": [
  {
   "cell_type": "code",
   "execution_count": 1,
   "metadata": {},
   "outputs": [],
   "source": [
    "def pxlocal(line, cell):\n",
    "    ip = get_ipython()\n",
    "    ip.run_cell_magic(\"px\", line, cell)\n",
    "    ip.run_cell(cell)\n",
    "get_ipython().register_magic_function(pxlocal, \"cell\")"
   ]
  },
  {
   "cell_type": "code",
   "execution_count": 2,
   "metadata": {},
   "outputs": [],
   "source": [
    "import ipyparallel as ipp\n",
    "import time\n",
    "\n",
    "rc = ipp.Client()"
   ]
  },
  {
   "cell_type": "code",
   "execution_count": 3,
   "metadata": {},
   "outputs": [
    {
     "name": "stderr",
     "output_type": "stream",
     "text": [
      "Using TensorFlow backend.\n"
     ]
    }
   ],
   "source": [
    "%%pxlocal\n",
    "\n",
    "import keras\n",
    "from keras.models import Sequential\n",
    "from keras.layers import Dense\n",
    "\n",
    "\n",
    "def get_model():\n",
    "    model = Sequential()\n",
    "    model.add(Dense(1, input_shape = (1,)))\n",
    "    model.add(Dense(100))\n",
    "    model.add(Dense(100))\n",
    "    model.add(Dense(100))\n",
    "    model.add(Dense(100))\n",
    "    model.add(Dense(1))\n",
    "    model.compile(optimizer = 'adam', loss = 'mse')\n",
    "    return model"
   ]
  },
  {
   "cell_type": "code",
   "execution_count": null,
   "metadata": {},
   "outputs": [
    {
     "name": "stderr",
     "output_type": "stream",
     "text": [
      "Exception in callback BaseAsyncIOLoop._handle_events(1360, 1)\n",
      "handle: <Handle BaseAsyncIOLoop._handle_events(1360, 1)>\n",
      "Traceback (most recent call last):\n",
      "  File \"C:\\Users\\arthu\\Anaconda3\\lib\\asyncio\\events.py\", line 88, in _run\n",
      "    self._context.run(self._callback, *self._args)\n",
      "  File \"C:\\Users\\arthu\\Anaconda3\\lib\\site-packages\\tornado\\platform\\asyncio.py\", line 138, in _handle_events\n",
      "    handler_func(fileobj, events)\n",
      "  File \"C:\\Users\\arthu\\Anaconda3\\lib\\site-packages\\zmq\\eventloop\\zmqstream.py\", line 456, in _handle_events\n",
      "    self._handle_recv()\n",
      "  File \"C:\\Users\\arthu\\Anaconda3\\lib\\site-packages\\zmq\\eventloop\\zmqstream.py\", line 486, in _handle_recv\n",
      "    self._run_callback(callback, msg)\n",
      "  File \"C:\\Users\\arthu\\Anaconda3\\lib\\site-packages\\zmq\\eventloop\\zmqstream.py\", line 438, in _run_callback\n",
      "    callback(*args, **kwargs)\n",
      "  File \"<C:\\Users\\arthu\\Anaconda3\\lib\\site-packages\\decorator.py:decorator-gen-154>\", line 2, in _dispatch_reply\n",
      "  File \"C:\\Users\\arthu\\Anaconda3\\lib\\site-packages\\ipyparallel\\client\\client.py\", line 75, in unpack_message\n",
      "    return f(self, msg)\n",
      "  File \"C:\\Users\\arthu\\Anaconda3\\lib\\site-packages\\ipyparallel\\client\\client.py\", line 937, in _dispatch_reply\n",
      "    handler(msg)\n",
      "  File \"C:\\Users\\arthu\\Anaconda3\\lib\\site-packages\\ipyparallel\\client\\client.py\", line 830, in _handle_apply_reply\n",
      "    self.results[msg_id] = serialize.deserialize_object(msg['buffers'])[0]\n",
      "  File \"C:\\Users\\arthu\\Anaconda3\\lib\\site-packages\\ipyparallel\\serialize\\serialize.py\", line 145, in deserialize_object\n",
      "    canned = pickle.loads(pobj)\n",
      "  File \"C:\\Users\\arthu\\Anaconda3\\lib\\site-packages\\keras\\engine\\network.py\", line 1334, in __setstate__\n",
      "    model = saving.unpickle_model(state)\n",
      "  File \"C:\\Users\\arthu\\Anaconda3\\lib\\site-packages\\keras\\engine\\saving.py\", line 604, in unpickle_model\n",
      "    return _deserialize_model(h5dict)\n",
      "  File \"C:\\Users\\arthu\\Anaconda3\\lib\\site-packages\\keras\\engine\\saving.py\", line 274, in _deserialize_model\n",
      "    model = model_from_config(model_config, custom_objects=custom_objects)\n",
      "  File \"C:\\Users\\arthu\\Anaconda3\\lib\\site-packages\\keras\\engine\\saving.py\", line 627, in model_from_config\n",
      "    return deserialize(config, custom_objects=custom_objects)\n",
      "  File \"C:\\Users\\arthu\\Anaconda3\\lib\\site-packages\\keras\\layers\\__init__.py\", line 168, in deserialize\n",
      "    printable_module_name='layer')\n",
      "  File \"C:\\Users\\arthu\\Anaconda3\\lib\\site-packages\\keras\\utils\\generic_utils.py\", line 147, in deserialize_keras_object\n",
      "    list(custom_objects.items())))\n",
      "  File \"C:\\Users\\arthu\\Anaconda3\\lib\\site-packages\\keras\\engine\\sequential.py\", line 302, in from_config\n",
      "    model.add(layer)\n",
      "  File \"C:\\Users\\arthu\\Anaconda3\\lib\\site-packages\\keras\\engine\\sequential.py\", line 162, in add\n",
      "    name=layer.name + '_input')\n",
      "  File \"C:\\Users\\arthu\\Anaconda3\\lib\\site-packages\\keras\\engine\\input_layer.py\", line 178, in Input\n",
      "    input_tensor=tensor)\n",
      "  File \"C:\\Users\\arthu\\Anaconda3\\lib\\site-packages\\keras\\legacy\\interfaces.py\", line 91, in wrapper\n",
      "    return func(*args, **kwargs)\n",
      "  File \"C:\\Users\\arthu\\Anaconda3\\lib\\site-packages\\keras\\engine\\input_layer.py\", line 87, in __init__\n",
      "    name=self.name)\n",
      "  File \"C:\\Users\\arthu\\Anaconda3\\lib\\site-packages\\keras\\backend\\tensorflow_backend.py\", line 73, in symbolic_fn_wrapper\n",
      "    if _SYMBOLIC_SCOPE.value:\n",
      "AttributeError: '_thread._local' object has no attribute 'value'\n"
     ]
    }
   ],
   "source": [
    "models = [get_model() for _ in rc.ids]\n",
    "dview = rc[:]\n",
    "dview.scatter('models', models)\n",
    "dview['models']"
   ]
  },
  {
   "cell_type": "code",
   "execution_count": 15,
   "metadata": {},
   "outputs": [
    {
     "name": "stdout",
     "output_type": "stream",
     "text": [
      "0.0\n",
      "[array([[0.]], dtype=float32), array([[0.]], dtype=float32), array([[0.]], dtype=float32), array([[0.]], dtype=float32)]\n"
     ]
    }
   ],
   "source": [
    "cur_time = time.time()\n",
    "\n",
    "ans = [model.predict([0]) for i in range(4)]\n",
    "\n",
    "print(time.time() - cur_time)\n",
    "print(ans)"
   ]
  },
  {
   "cell_type": "code",
   "execution_count": null,
   "metadata": {},
   "outputs": [],
   "source": []
  }
 ],
 "metadata": {
  "kernelspec": {
   "display_name": "Python 3",
   "language": "python",
   "name": "python3"
  },
  "language_info": {
   "codemirror_mode": {
    "name": "ipython",
    "version": 3
   },
   "file_extension": ".py",
   "mimetype": "text/x-python",
   "name": "python",
   "nbconvert_exporter": "python",
   "pygments_lexer": "ipython3",
   "version": "3.7.4"
  }
 },
 "nbformat": 4,
 "nbformat_minor": 2
}
