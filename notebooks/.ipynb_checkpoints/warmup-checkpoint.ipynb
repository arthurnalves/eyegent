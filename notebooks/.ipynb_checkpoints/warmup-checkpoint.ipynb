{
 "cells": [
  {
   "cell_type": "code",
   "execution_count": 1,
   "metadata": {},
   "outputs": [
    {
     "name": "stderr",
     "output_type": "stream",
     "text": [
      "Using TensorFlow backend.\n"
     ]
    },
    {
     "name": "stdout",
     "output_type": "stream",
     "text": [
      "[['NOOP'], ['right'], ['right', 'A'], ['right', 'B'], ['right', 'A', 'B'], ['A'], ['left']]\n",
      "WARNING:tensorflow:From /home/arthur/anaconda3/lib/python3.7/site-packages/tensorflow/python/framework/op_def_library.py:263: colocate_with (from tensorflow.python.framework.ops) is deprecated and will be removed in a future version.\n",
      "Instructions for updating:\n",
      "Colocations handled automatically by placer.\n",
      "_________________________________________________________________\n",
      "Layer (type)                 Output Shape              Param #   \n",
      "=================================================================\n",
      "lambda_1 (Lambda)            (1, 240, 256, 3)          0         \n",
      "_________________________________________________________________\n",
      "conv2d_1 (Conv2D)            (1, 30, 32, 1)            193       \n",
      "_________________________________________________________________\n",
      "activation_1 (Activation)    (1, 30, 32, 1)            0         \n",
      "_________________________________________________________________\n",
      "conv2d_2 (Conv2D)            (1, 15, 16, 2)            34        \n",
      "_________________________________________________________________\n",
      "activation_2 (Activation)    (1, 15, 16, 2)            0         \n",
      "_________________________________________________________________\n",
      "conv2d_3 (Conv2D)            (1, 8, 8, 4)              36        \n",
      "_________________________________________________________________\n",
      "activation_3 (Activation)    (1, 8, 8, 4)              0         \n",
      "_________________________________________________________________\n",
      "conv2d_4 (Conv2D)            (1, 4, 4, 8)              136       \n",
      "_________________________________________________________________\n",
      "activation_4 (Activation)    (1, 4, 4, 8)              0         \n",
      "_________________________________________________________________\n",
      "flatten_1 (Flatten)          (1, 128)                  0         \n",
      "_________________________________________________________________\n",
      "reshape_1 (Reshape)          (1, 1, 128)               0         \n",
      "_________________________________________________________________\n",
      "gru_1 (GRU)                  (1, 7)                    2856      \n",
      "_________________________________________________________________\n",
      "activation_5 (Activation)    (1, 7)                    0         \n",
      "=================================================================\n",
      "Total params: 3,255\n",
      "Trainable params: 3,255\n",
      "Non-trainable params: 0\n",
      "_________________________________________________________________\n"
     ]
    }
   ],
   "source": [
    "import pickle\n",
    "import numpy as np\n",
    "import matplotlib.pyplot as plt\n",
    "from IPython.display import clear_output\n",
    "\n",
    "import gym_super_mario_bros\n",
    "from gym_super_mario_bros.actions import SIMPLE_MOVEMENT, COMPLEX_MOVEMENT, RIGHT_ONLY\n",
    "from gym import wrappers\n",
    "from nes_py.wrappers import BinarySpaceToDiscreteSpaceEnv\n",
    "\n",
    "\n",
    "import keras\n",
    "from keras.models import Sequential, Model\n",
    "from keras.layers import Input, Conv2D, Dense, Flatten, MaxPooling1D, SeparableConv2D, Activation, Lambda\n",
    "from keras.layers import AveragePooling2D, MaxPooling2D, LSTM, Concatenate, Reshape, GRU, BatchNormalization\n",
    "from keras.initializers import Constant\n",
    "from keras.constraints import MaxNorm\n",
    "from keras.applications.xception import Xception\n",
    "from keras.applications.mobilenet_v2 import MobileNetV2\n",
    "\n",
    "version = 3\n",
    "movement_type = SIMPLE_MOVEMENT\n",
    "\n",
    "def make_env(version, movement_type):\n",
    "    env = gym_super_mario_bros.make('SuperMarioBros-v' + str(version))\n",
    "    env = BinarySpaceToDiscreteSpaceEnv(env, movement_type)\n",
    "    return env\n",
    "\n",
    "env = make_env(version, movement_type)\n",
    "obs_shape = env.observation_space.shape\n",
    "square_shape = (16,16)\n",
    "strides = int(square_shape[0]/2)\n",
    "output_dim = len(env.get_action_meanings())\n",
    "\n",
    "def get_mario_model(nproc = 1, obs_shape = obs_shape, square_shape = square_shape, strides = strides, output_dim = output_dim, hidden_size = 10):\n",
    "    model = Sequential()\n",
    "    model.add(Lambda(lambda x: x/255.0, batch_input_shape = np.concatenate(([1],obs_shape)), output_shape=None, mask=None, arguments=None))\n",
    "    model.add(Conv2D(kernel_size = (8,8), filters=1, strides = 8, padding = 'same'))\n",
    "    model.add(Activation(activation='relu'))\n",
    "    model.add(Conv2D(kernel_size = (4,4), filters=2, strides = 2, padding = 'same'))\n",
    "    model.add(Activation(activation='relu'))\n",
    "    model.add(Conv2D(kernel_size = (2,2), filters=4, strides = 2, padding = 'same'))\n",
    "    model.add(Activation(activation='relu'))\n",
    "    model.add(Conv2D(kernel_size = (2,2), filters=8, strides = 2, padding = 'same'))\n",
    "    model.add(Activation(activation='relu'))\n",
    "    model.add(Flatten())\n",
    "    model.add(Reshape((1,128)))\n",
    "    model.add(GRU(7, stateful = True))\n",
    "    model.add(Activation('softmax'))\n",
    "    model.compile(optimizer = 'adam', loss = 'mse')\n",
    "    return model\n",
    "\n",
    "def sample(preds, temperature=1.0):\n",
    "    # helper function to sample an index from a probability array\n",
    "    preds = np.asarray(preds).astype('float64')\n",
    "    preds = np.log(preds) / temperature\n",
    "    exp_preds = np.exp(preds)\n",
    "    preds = exp_preds / np.sum(exp_preds)\n",
    "    probas = np.random.multinomial(1, preds, 1)\n",
    "    return np.argmax(probas)\n",
    "\n",
    "print(movement_type)\n",
    "\n",
    "def action_translator(action_vec, movement_type = movement_type, threshold = 0.1, verbose = False):\n",
    "    \n",
    "    actions = []\n",
    "    if action_vec[0] > threshold:\n",
    "        actions.append('right')\n",
    "        if action_vec[3] > 0:\n",
    "            actions.append('B')\n",
    "    elif action_vec[0] < -threshold:\n",
    "        actions.append('left')\n",
    "        if action_vec[3] > 0:\n",
    "            actions.append('B')\n",
    "    if action_vec[2] > 0:\n",
    "            actions.append('A')\n",
    "    elif action_vec[0] < threshold and action_vec[0] > -threshold:\n",
    "        if action_vec[1] > threshold:\n",
    "            actions.append('up')\n",
    "        elif action_vec[1] < -threshold:\n",
    "            actions.append('down')\n",
    "    \n",
    "    if verbose:\n",
    "        print(actions)\n",
    "    for i, commands in enumerate(movement_type):\n",
    "        if set(actions) == set(commands):\n",
    "            return i\n",
    "    return 0\n",
    "\n",
    "get_mario_model().summary()"
   ]
  },
  {
   "cell_type": "code",
   "execution_count": 18,
   "metadata": {},
   "outputs": [],
   "source": [
    "def mutation(agents, progenitor_label, mutant_label, cancer_level = 1, chance = 0.1):\n",
    "    progenitor = agents[progenitor_label]\n",
    "    mutant = agents[mutant_label]\n",
    "    for pro_layer, mut_layer in zip(progenitor.layers, mutant.layers):\n",
    "        new_weights = []\n",
    "        for sublayer in pro_layer.get_weights():\n",
    "            mutated =  np.random.normal(0, cancer_level, np.shape(sublayer))\n",
    "            for x in np.nditer(mutated, op_flags=['readwrite']):\n",
    "                if np.random.random() > chance:\n",
    "                    x[...] = 0\n",
    "            new_weights.append(np.clip(sublayer + mutated, -1, 1))\n",
    "        mut_layer.set_weights(new_weights)\n",
    "    \n",
    "    return mutant\n",
    "\n",
    "def survival_of_the_fittest(agents, fitness_vec):\n",
    "    top_agents = sorted(zip(agents, fitness_vec), key  = lambda agent: -agent[1])\n",
    "    sorted_agents = list(np.array(top_agents).T[0])\n",
    "    sorted_fitness = list(np.array(top_agents).T[1])\n",
    "    return sorted_agents, sorted_fitness\n",
    "\n",
    "def reproduction(agents, chance, cancer_level, num_survivors):\n",
    "    offspring = []\n",
    "    num_offspring = len(agents)//num_survivors\n",
    "    for i in range(len(agents)):\n",
    "        if i < num_survivors:\n",
    "            offspring.append(agents[i])\n",
    "        else:\n",
    "            offspring.append(mutation(agents = agents, progenitor_label = (i-num_survivors)//num_offspring, \n",
    "                                  mutant_label = i, \n",
    "                                  chance = chance, cancer_level = cancer_level))\n",
    "        \n",
    "            \n",
    "    return offspring\n",
    "\n",
    "def get_fitness_vec(agents, env, max_frames, num_survivors, fitness_vec, buffer, first):\n",
    "    for i, agent in enumerate(agents):\n",
    "        if i >= num_survivors:\n",
    "            fitness_vec[i] = gameplay(agent, env, max_frames, buffer = buffer)\n",
    "        elif first:\n",
    "            fitness_vec[i] = gameplay(agent, env, max_frames, buffer = buffer)\n",
    "    return fitness_vec\n",
    "\n",
    "\n",
    "def info_reward(info):\n",
    "    reward = info['x_pos']\n",
    "    reward += info['score']/100\n",
    "    if info['status'] == 'tall':\n",
    "        reward += 10\n",
    "    elif info['status'] == 'fireball':\n",
    "        reward += 20\n",
    "    reward += info['coins']\n",
    "    reward += 15*info['life']\n",
    "    reward += 1000*(info['stage']-1)\n",
    "    reward += 5000*(info['world']-1)\n",
    "    return reward\n",
    "    \n",
    "def gameplay(agent, env, max_frames, buffer = 3, max_rest = 800):  \n",
    "    \n",
    "    agent.reset_states()\n",
    "    reward_hist = []\n",
    "    \n",
    "    life = 2\n",
    "    fitness = 0\n",
    "    done = True\n",
    "    x_pos = -1\n",
    "    resting = 0\n",
    "    score = 0\n",
    "    action = 0\n",
    "    reward = 0\n",
    "    action_vec = np.ones((1,1,len(env.get_keys_to_action())))\n",
    "    action = 0\n",
    "    prev_reward = 0\n",
    "    prev_state = np.zeros((1,240,256,3))\n",
    "    for step in range(max_frames):\n",
    "        if done:\n",
    "            state = env.reset()\n",
    "        if step%buffer == 0:\n",
    "            np_state = np.array(state).reshape((1,240,256,3)) - prev_state\n",
    "            prev_state = np.array(state).reshape((1,240,256,3))\n",
    "            action_vec = agent.predict(np_state)\n",
    "            action = np.argmax(action_vec)\n",
    "        state, reward, done, info = env.step(action)\n",
    "        fitness += reward\n",
    "        if abs(info['x_pos'] - x_pos) < 1:\n",
    "            resting += 1\n",
    "        else:\n",
    "            x_pos = info['x_pos']\n",
    "            resting = 0\n",
    "        if resting > max_rest:\n",
    "            return fitness\n",
    "        if life != info['life']:\n",
    "            return fitness\n",
    "    return fitness\n",
    "\n",
    "import time\n",
    "\n",
    "def evolution_step(env, generation, num_agents_per_gen, num_survivors, chance, cancer_level, max_frames, fitness_vec, buffer, first):\n",
    "    \n",
    "    fitness_hist = []\n",
    "    current = time.time()\n",
    "    fitness_vec = get_fitness_vec(generation, env, max_frames, num_survivors, fitness_vec, buffer= buffer, first = first)\n",
    "    #para_step(fitness_vec)\n",
    "    fit_time = time.time() - current\n",
    "    survivors, fitness_vec = survival_of_the_fittest(generation, fitness_vec)\n",
    "    current = time.time()\n",
    "    generation = reproduction(survivors, chance = chance, cancer_level = cancer_level, num_survivors = num_survivors)\n",
    "    gen_time = time.time() - current\n",
    "    times = (fit_time, gen_time)\n",
    "    return generation, fitness_vec, times"
   ]
  },
  {
   "cell_type": "code",
   "execution_count": 19,
   "metadata": {
    "scrolled": true
   },
   "outputs": [
    {
     "name": "stderr",
     "output_type": "stream",
     "text": [
      "Exception ignored in: <function Monitor.__del__ at 0x7effca0079d8>\n",
      "Traceback (most recent call last):\n",
      "  File \"/home/arthur/anaconda3/lib/python3.7/site-packages/gym/wrappers/monitor.py\", line 229, in __del__\n",
      "    self.close()\n",
      "  File \"/home/arthur/anaconda3/lib/python3.7/site-packages/gym/wrappers/monitor.py\", line 134, in close\n",
      "    super(Monitor, self).close()\n",
      "  File \"/home/arthur/anaconda3/lib/python3.7/site-packages/gym/core.py\", line 233, in close\n",
      "    return self.env.close()\n",
      "  File \"/home/arthur/anaconda3/lib/python3.7/site-packages/gym/core.py\", line 233, in close\n",
      "    return self.env.close()\n",
      "  File \"/home/arthur/anaconda3/lib/python3.7/site-packages/gym/core.py\", line 233, in close\n",
      "    return self.env.close()\n",
      "  File \"/home/arthur/anaconda3/lib/python3.7/site-packages/nes_py/nes_env.py\", line 338, in close\n",
      "    raise ValueError('env has already been closed.')\n",
      "ValueError: env has already been closed.\n"
     ]
    },
    {
     "name": "stdout",
     "output_type": "stream",
     "text": [
      "_________________________________________________________________\n",
      "Layer (type)                 Output Shape              Param #   \n",
      "=================================================================\n",
      "lambda_34 (Lambda)           (1, 240, 256, 3)          0         \n",
      "_________________________________________________________________\n",
      "conv2d_133 (Conv2D)          (1, 30, 32, 1)            193       \n",
      "_________________________________________________________________\n",
      "activation_166 (Activation)  (1, 30, 32, 1)            0         \n",
      "_________________________________________________________________\n",
      "conv2d_134 (Conv2D)          (1, 15, 16, 2)            34        \n",
      "_________________________________________________________________\n",
      "activation_167 (Activation)  (1, 15, 16, 2)            0         \n",
      "_________________________________________________________________\n",
      "conv2d_135 (Conv2D)          (1, 8, 8, 4)              36        \n",
      "_________________________________________________________________\n",
      "activation_168 (Activation)  (1, 8, 8, 4)              0         \n",
      "_________________________________________________________________\n",
      "conv2d_136 (Conv2D)          (1, 4, 4, 8)              136       \n",
      "_________________________________________________________________\n",
      "activation_169 (Activation)  (1, 4, 4, 8)              0         \n",
      "_________________________________________________________________\n",
      "flatten_34 (Flatten)         (1, 128)                  0         \n",
      "_________________________________________________________________\n",
      "reshape_34 (Reshape)         (1, 1, 128)               0         \n",
      "_________________________________________________________________\n",
      "gru_34 (GRU)                 (1, 7)                    2856      \n",
      "_________________________________________________________________\n",
      "activation_170 (Activation)  (1, 7)                    0         \n",
      "=================================================================\n",
      "Total params: 3,255\n",
      "Trainable params: 3,255\n",
      "Non-trainable params: 0\n",
      "_________________________________________________________________\n"
     ]
    }
   ],
   "source": [
    "mario_count = 32\n",
    "num_survivors = 4  \n",
    "env = make_env(version, movement_type)\n",
    "buffer = 4\n",
    "version = 3\n",
    "chance = 0.02\n",
    "cancer_level = .2\n",
    "\n",
    "name = str(mario_count) + '-b' + str(buffer) + '-v' + str(version) + '-p' + str(chance) + '-q' + str(cancer_level) + '.pkl'\n",
    "\n",
    "\n",
    "try:\n",
    "    agents = pickle.load(open('gen' + name, 'rb'))\n",
    "    fitness_hist = pickle.load(open('fithist' + name,'rb'))\n",
    "    fitness_vec = list(reversed(range(len(agents))))\n",
    "    epoch_count = len(fitness_hist)\n",
    "except:\n",
    "    agents = [get_mario_model() for _ in range(mario_count)]\n",
    "    fitness_hist = []\n",
    "    fitness_vec = np.zeros(mario_count)\n",
    "    epoch_count = 0\n",
    "\n",
    "agents[0].summary()"
   ]
  },
  {
   "cell_type": "code",
   "execution_count": 4,
   "metadata": {},
   "outputs": [],
   "source": [
    "fitness_hist = []\n",
    "fitness_vec = [0]*len(agents)\n",
    "epoch_count = 0\n",
    "first = True"
   ]
  },
  {
   "cell_type": "code",
   "execution_count": 5,
   "metadata": {},
   "outputs": [],
   "source": [
    "from multiprocessing import Process, Lock, Manager, current_process\n",
    "import numpy as np\n",
    "import os\n",
    "\n",
    "def paraplay(fitness_vec, env_no, nproc, max_frames, buffer, max_rest, verbose):\n",
    "    for agent_no in range(len(agents)):\n",
    "        if agent_no%nproc == env_no:\n",
    "            fitness = gameplay(agents[agent_no], envs[env_no], max_frames, buffer, max_rest, verbose)\n",
    "            fitness_vec[agent_no] = fitness\n",
    "    print(os.getpid())"
   ]
  },
  {
   "cell_type": "code",
   "execution_count": 6,
   "metadata": {},
   "outputs": [],
   "source": [
    "def para_step(fitness_vec):\n",
    "    manager = Manager()\n",
    "    jobs = []\n",
    "\n",
    "    fitness_vec = manager.list(fitness_vec)\n",
    "    \n",
    "    for i in range(7):\n",
    "        env_no = i\n",
    "        p = Process(target=paraplay, args=(fitness_vec, env_no, 7, 10, 8, 60, False))\n",
    "        jobs.append(p)\n",
    "        \n",
    "    for job in jobs:\n",
    "        job.start()\n",
    "    \n",
    "    for job in jobs:\n",
    "        job.join()"
   ]
  },
  {
   "cell_type": "code",
   "execution_count": 7,
   "metadata": {},
   "outputs": [],
   "source": [
    "import copy\n",
    "\n",
    "fitness_hist = []\n",
    "epoch_count = 1\n",
    "\n",
    "best_agent = agents[0]\n",
    "best_score = 0 "
   ]
  },
  {
   "cell_type": "code",
   "execution_count": null,
   "metadata": {
    "scrolled": false
   },
   "outputs": [],
   "source": [
    "%%time\n",
    "env = make_env(version, movement_type)\n",
    "meteor_no = 4\n",
    "for meteor in range(meteor_no):\n",
    "    num_epochs = 100\n",
    "    first = True\n",
    "    for epoch in range(num_epochs):\n",
    "        epoch_count += 1\n",
    "        max_frames = 2000\n",
    "        #max_frames = min((1+epoch)*200, 2000)\n",
    "        agents, fitness_vec, times = evolution_step(env = env, generation = agents,\n",
    "                         num_agents_per_gen = mario_count, num_survivors = num_survivors, chance = chance, \n",
    "                         cancer_level = cancer_level, max_frames = max_frames, fitness_vec = fitness_vec, \n",
    "                         buffer = buffer, first = first)\n",
    "        first = False\n",
    "        fitness_hist.append(max(fitness_vec))\n",
    "        clear_output(wait = True)\n",
    "        \n",
    "        if fitness_vec[0] > best_score:\n",
    "            best_agent = copy.deepcopy(agents[0])\n",
    "            best_score = fitness_vec[0]\n",
    "            \n",
    "        print('epoch: ', epoch_count)\n",
    "        print('fitness_max: ', max(fitness_vec))\n",
    "        print('times: ', times)\n",
    "        print('best score: ', best_score)\n",
    "        plt.plot(fitness_vec)\n",
    "        plt.show()\n",
    "        plt.plot(fitness_hist)\n",
    "        plt.show()\n",
    "        pickle.dump(agents, open('gen' + name, 'wb'))\n",
    "        pickle.dump(fitness_hist, open('fithist' + name,'wb'))"
   ]
  },
  {
   "cell_type": "code",
   "execution_count": 9,
   "metadata": {},
   "outputs": [
    {
     "name": "stdout",
     "output_type": "stream",
     "text": [
      "right A\n",
      "[[0.13568896 0.13456546 0.1558103  0.13350646 0.14652272 0.14650851\n",
      "  0.14739768]]\n"
     ]
    }
   ],
   "source": [
    "import cv2\n",
    "\n",
    "agent = best_agent\n",
    "\n",
    "reward_hist = []\n",
    "\n",
    "frames = []\n",
    "\n",
    "agent.reset_states()\n",
    "\n",
    "env = make_env(version, movement_type)\n",
    "env = wrappers.Monitor(env, \"./gym-results\", force=True)\n",
    "\n",
    "life = 2\n",
    "fitness = 0\n",
    "done = True\n",
    "x_pos = -1\n",
    "resting = 0\n",
    "score = 0\n",
    "state_history = []\n",
    "for step in range(10000):\n",
    "    if done:\n",
    "        state = env.reset()\n",
    "    if step%buffer == 0:\n",
    "        np_state = np.array(state).reshape((1,240,256,3))\n",
    "        action_vec = agent.predict(np_state)\n",
    "        action = np.argmax(action_vec)\n",
    "    state, reward, done, info = env.step(action)\n",
    "    print(env.env.get_action_meanings()[np.argmax(action_vec)])\n",
    "    print(action_vec)\n",
    "    clear_output(wait=True)\n",
    "    frames.append(np_state)\n",
    "    env.render()\n",
    "    fitness += float(reward)\n",
    "    if abs(info['x_pos'] - x_pos) < 1:\n",
    "        resting += 1\n",
    "    else:\n",
    "        x_pos = info['x_pos']\n",
    "        resting = 0\n",
    "    if resting > 200:\n",
    "        break\n",
    "    if life != info['life']:\n",
    "        break\n",
    "    state_history.append(np_state)\n",
    "env.close()"
   ]
  },
  {
   "cell_type": "code",
   "execution_count": 10,
   "metadata": {},
   "outputs": [
    {
     "name": "stdout",
     "output_type": "stream",
     "text": [
      "(1, 240, 256, 3)\n"
     ]
    },
    {
     "data": {
      "image/png": "[encoded data removed]",
      "text/plain": [
       "<Figure size 432x288 with 1 Axes>"
      ]
     },
     "metadata": {
      "needs_background": "light"
     },
     "output_type": "display_data"
    }
   ],
   "source": [
    "print(np.shape(np_state))\n",
    "plt.imshow(np_state[0])\n",
    "plt.show()"
   ]
  },
  {
   "cell_type": "code",
   "execution_count": 11,
   "metadata": {},
   "outputs": [],
   "source": [
    "opposite = - agent.predict(np_state)"
   ]
  },
  {
   "cell_type": "code",
   "execution_count": 12,
   "metadata": {},
   "outputs": [
    {
     "name": "stdout",
     "output_type": "stream",
     "text": [
      "WARNING:tensorflow:From /home/arthur/anaconda3/lib/python3.7/site-packages/tensorflow/python/ops/math_ops.py:3066: to_int32 (from tensorflow.python.ops.math_ops) is deprecated and will be removed in a future version.\n",
      "Instructions for updating:\n",
      "Use tf.cast instead.\n"
     ]
    },
    {
     "data": {
      "text/plain": [
       "0.08185966"
      ]
     },
     "execution_count": 12,
     "metadata": {},
     "output_type": "execute_result"
    }
   ],
   "source": [
    "agent.train_on_batch(np_state, opposite)"
   ]
  },
  {
   "cell_type": "code",
   "execution_count": 13,
   "metadata": {},
   "outputs": [
    {
     "data": {
      "text/plain": [
       "array([[0.13653971, 0.13526483, 0.15512265, 0.13575539, 0.14462443,\n",
       "        0.14722833, 0.14546469]], dtype=float32)"
      ]
     },
     "execution_count": 13,
     "metadata": {},
     "output_type": "execute_result"
    }
   ],
   "source": [
    "agent.predict(np_state)"
   ]
  },
  {
   "cell_type": "code",
   "execution_count": 14,
   "metadata": {},
   "outputs": [
    {
     "data": {
      "text/plain": [
       "array([[-0.13564147, -0.13456133, -0.15595011, -0.13440834, -0.14566463,\n",
       "        -0.14708446, -0.14668965]], dtype=float32)"
      ]
     },
     "execution_count": 14,
     "metadata": {},
     "output_type": "execute_result"
    }
   ],
   "source": [
    "opposite"
   ]
  },
  {
   "cell_type": "code",
   "execution_count": 15,
   "metadata": {},
   "outputs": [
    {
     "data": {
      "text/plain": [
       "()"
      ]
     },
     "execution_count": 15,
     "metadata": {},
     "output_type": "execute_result"
    }
   ],
   "source": [
    "np.shape(gameplay)"
   ]
  },
  {
   "cell_type": "code",
   "execution_count": 16,
   "metadata": {},
   "outputs": [
    {
     "data": {
      "image/png": "[encoded data removed]",
      "text/plain": [
       "<Figure size 432x288 with 1 Axes>"
      ]
     },
     "metadata": {
      "needs_background": "light"
     },
     "output_type": "display_data"
    }
   ],
   "source": [
    "for frame in frames:\n",
    "    plt.imshow(frame[0])\n",
    "    plt.show()\n",
    "    clear_output(wait=True)"
   ]
  },
  {
   "cell_type": "code",
   "execution_count": 17,
   "metadata": {},
   "outputs": [
    {
     "data": {
      "text/plain": [
       "array([[[[104, 136, 252],\n",
       "         [104, 136, 252],\n",
       "         [104, 136, 252],\n",
       "         ...,\n",
       "         [104, 136, 252],\n",
       "         [104, 136, 252],\n",
       "         [104, 136, 252]],\n",
       "\n",
       "        [[104, 136, 252],\n",
       "         [104, 136, 252],\n",
       "         [104, 136, 252],\n",
       "         ...,\n",
       "         [104, 136, 252],\n",
       "         [104, 136, 252],\n",
       "         [104, 136, 252]],\n",
       "\n",
       "        [[104, 136, 252],\n",
       "         [104, 136, 252],\n",
       "         [104, 136, 252],\n",
       "         ...,\n",
       "         [104, 136, 252],\n",
       "         [104, 136, 252],\n",
       "         [104, 136, 252]],\n",
       "\n",
       "        ...,\n",
       "\n",
       "        [[228,  92,  16],\n",
       "         [228,  92,  16],\n",
       "         [228,  92,  16],\n",
       "         ...,\n",
       "         [228,  92,  16],\n",
       "         [228,  92,  16],\n",
       "         [228,  92,  16]],\n",
       "\n",
       "        [[228,  92,  16],\n",
       "         [228,  92,  16],\n",
       "         [228,  92,  16],\n",
       "         ...,\n",
       "         [228,  92,  16],\n",
       "         [228,  92,  16],\n",
       "         [228,  92,  16]],\n",
       "\n",
       "        [[228,  92,  16],\n",
       "         [228,  92,  16],\n",
       "         [228,  92,  16],\n",
       "         ...,\n",
       "         [228,  92,  16],\n",
       "         [228,  92,  16],\n",
       "         [228,  92,  16]]]], dtype=uint8)"
      ]
     },
     "execution_count": 17,
     "metadata": {},
     "output_type": "execute_result"
    }
   ],
   "source": [
    "np_state"
   ]
  },
  {
   "cell_type": "code",
   "execution_count": null,
   "metadata": {},
   "outputs": [],
   "source": []
  }
 ],
 "metadata": {
  "kernelspec": {
   "display_name": "Python 3",
   "language": "python",
   "name": "python3"
  },
  "language_info": {
   "codemirror_mode": {
    "name": "ipython",
    "version": 3
   },
   "file_extension": ".py",
   "mimetype": "text/x-python",
   "name": "python",
   "nbconvert_exporter": "python",
   "pygments_lexer": "ipython3",
   "version": "3.7.3"
  }
 },
 "nbformat": 4,
 "nbformat_minor": 2
}
