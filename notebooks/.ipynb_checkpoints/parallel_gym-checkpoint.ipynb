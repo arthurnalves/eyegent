{
 "cells": [
  {
   "cell_type": "code",
   "execution_count": 1,
   "metadata": {},
   "outputs": [],
   "source": [
    "def pxlocal(line, cell):\n",
    "    ip = get_ipython()\n",
    "    ip.run_cell_magic(\"px\", line, cell)\n",
    "    ip.run_cell(cell)\n",
    "get_ipython().register_magic_function(pxlocal, \"cell\")"
   ]
  },
  {
   "cell_type": "code",
   "execution_count": 2,
   "metadata": {
    "scrolled": true
   },
   "outputs": [
    {
     "name": "stdout",
     "output_type": "stream",
     "text": [
      "Waiting for 0 seconds\n"
     ]
    }
   ],
   "source": [
    "import subprocess\n",
    "import ipyparallel as ipp\n",
    "import time\n",
    "from IPython.display import clear_output\n",
    "\n",
    "subprocess.Popen([\"ipcluster\", \"stop\"])\n",
    "time.sleep(5)\n",
    "\n",
    "num_agents = 32\n",
    "num_engines = 4\n",
    "subprocess.Popen([\"ipcluster\", \"start\", \"-n={:d}\".format(num_engines)])\n",
    "\n",
    "wait_time = 30\n",
    "# Waiting for clusters to start properly\n",
    "for i in range(wait_time):\n",
    "    clear_output(wait = True)\n",
    "    print('Waiting for', wait_time - (i+1), 'seconds')\n",
    "    time.sleep(1)\n",
    "    \n",
    "rc = ipp.Client()"
   ]
  },
  {
   "cell_type": "code",
   "execution_count": 3,
   "metadata": {},
   "outputs": [
    {
     "name": "stderr",
     "output_type": "stream",
     "text": [
      "[stderr:0] Using TensorFlow backend.\n",
      "[stderr:1] Using TensorFlow backend.\n",
      "[stderr:2] Using TensorFlow backend.\n",
      "[stderr:3] Using TensorFlow backend.\n",
      "Using TensorFlow backend.\n"
     ]
    }
   ],
   "source": [
    "%%pxlocal\n",
    "\n",
    "from agent import Agent"
   ]
  },
  {
   "cell_type": "code",
   "execution_count": 4,
   "metadata": {},
   "outputs": [],
   "source": [
    "class Generation:\n",
    "    \n",
    "    num_engines = None\n",
    "    agents_per_engine = None\n",
    "    size = None\n",
    "    agents = None\n",
    "    history = None\n",
    "    new_ID = None\n",
    "    \n",
    "    def __init__(self, num_engines, agents_per_engine):\n",
    "        self.num_engines = num_engines\n",
    "        self.agents_per_engine = agents.per_engine\n",
    "        self.size = num_engines*agents_per_engine\n",
    "        self.agents = []\n",
    "        for ID in range(self.size):\n",
    "            self.agents.append(Agent(ID = ID))\n",
    "        self.new_ID = ID + 1\n",
    "\n",
    "    def get_ranking(self):\n",
    "        ranking = []\n",
    "        for pos, agent in enumerate(self.agents):\n",
    "            ranking.append((pos, agent.get_reward()))\n",
    "        return ranking\n",
    "        \n",
    "    def evolution_step(self, num_survivors):\n",
    "        pass\n",
    "        "
   ]
  },
  {
   "cell_type": "code",
   "execution_count": 17,
   "metadata": {},
   "outputs": [],
   "source": [
    "generation = Generation(20)"
   ]
  },
  {
   "cell_type": "code",
   "execution_count": 18,
   "metadata": {},
   "outputs": [],
   "source": [
    "ranking = generation.get_ranking()"
   ]
  },
  {
   "cell_type": "code",
   "execution_count": 19,
   "metadata": {},
   "outputs": [],
   "source": [
    "survivors_ranking = sorted(ranking, reverse = True, key = lambda key: key[1])[:4]"
   ]
  },
  {
   "cell_type": "code",
   "execution_count": 22,
   "metadata": {},
   "outputs": [
    {
     "name": "stdout",
     "output_type": "stream",
     "text": [
      "[<agent.Agent object at 0x000001D098CD0088>, <agent.Agent object at 0x000001D098D4EC88>, <agent.Agent object at 0x000001D097A0E188>, <agent.Agent object at 0x000001D09A2523C8>, <agent.Agent object at 0x000001D09AA743C8>]\n",
      "\n",
      "[<agent.Agent object at 0x000001D09BAC14C8>, <agent.Agent object at 0x000001D094A61F88>, <agent.Agent object at 0x000001D0939C4DC8>, <agent.Agent object at 0x000001D09CAF7608>, <agent.Agent object at 0x000001D09B2A6C88>]\n",
      "\n",
      "[<agent.Agent object at 0x000001D09F31B188>, <agent.Agent object at 0x000001D09FB4E988>, <agent.Agent object at 0x000001D09F312F08>, <agent.Agent object at 0x000001D0A0B9ABC8>, <agent.Agent object at 0x000001D09FB4EA48>]\n",
      "\n",
      "[<agent.Agent object at 0x000001D0A1BD3E08>, <agent.Agent object at 0x000001D0A0B9AC88>, <agent.Agent object at 0x000001D0A3BF5188>, <agent.Agent object at 0x000001D0A4408988>, <agent.Agent object at 0x000001D0A3BEDF48>]\n",
      "\n"
     ]
    }
   ],
   "source": [
    "num_engines = 4\n",
    "num_per_engine = generation.size//num_engines\n",
    "for i in range(num_engines):\n",
    "    print(generation.agents[num_per_engine*i:num_per_engine*(i+1)])\n",
    "    print()"
   ]
  },
  {
   "cell_type": "code",
   "execution_count": 22,
   "metadata": {
    "scrolled": true
   },
   "outputs": [
    {
     "data": {
      "text/plain": [
       "[array([2, 8]),\n",
       " array([2, 7]),\n",
       " array([2, 7]),\n",
       " array([6, 6]),\n",
       " array([8, 6]),\n",
       " array([1, 5]),\n",
       " array([2, 4]),\n",
       " array([7, 4]),\n",
       " array([7, 2]),\n",
       " array([6, 2])]"
      ]
     },
     "execution_count": 22,
     "metadata": {},
     "output_type": "execute_result"
    }
   ],
   "source": [
    "import numpy as np\n",
    "\n",
    "\n",
    "sorted(ranking,  key = lambda key: -key[1])"
   ]
  },
  {
   "cell_type": "code",
   "execution_count": 5,
   "metadata": {},
   "outputs": [],
   "source": [
    "def parallel_run(rc, generation):\n",
    "    dview = rc[:]\n",
    "    dview.scatter('generation', generation)\n",
    "    %px rewards = [sum(agent.get_reward()) for agent in generation]\n",
    "    return dview.gather('rewards').get()"
   ]
  },
  {
   "cell_type": "code",
   "execution_count": 6,
   "metadata": {},
   "outputs": [
    {
     "name": "stdout",
     "output_type": "stream",
     "text": [
      "Parallel time: 71.244\n",
      "Ans: [-25, 741, 680, -65, -25, 680, 741, -25, -25, -65, 680, -25, -25, 737, -65, -25, 741, 741, 741, -25, 680, -65, 680, -25, -25, 680, -65, -25, 741, 680, 741, 741]\n"
     ]
    },
    {
     "name": "stderr",
     "output_type": "stream",
     "text": [
      "[stderr:1] \n",
      "c:\\users\\arthu\\appdata\\local\\continuum\\anaconda3\\lib\\site-packages\\gym_super_mario_bros\\smb_env.py:148: RuntimeWarning: overflow encountered in ubyte_scalars\n",
      "  return (self.ram[0x86] - self.ram[0x071c]) % 256\n",
      "[stderr:2] \n",
      "c:\\users\\arthu\\appdata\\local\\continuum\\anaconda3\\lib\\site-packages\\gym_super_mario_bros\\smb_env.py:148: RuntimeWarning: overflow encountered in ubyte_scalars\n",
      "  return (self.ram[0x86] - self.ram[0x071c]) % 256\n",
      "[stderr:5] \n",
      "c:\\users\\arthu\\appdata\\local\\continuum\\anaconda3\\lib\\site-packages\\gym_super_mario_bros\\smb_env.py:148: RuntimeWarning: overflow encountered in ubyte_scalars\n",
      "  return (self.ram[0x86] - self.ram[0x071c]) % 256\n",
      "[stderr:6] \n",
      "c:\\users\\arthu\\appdata\\local\\continuum\\anaconda3\\lib\\site-packages\\gym_super_mario_bros\\smb_env.py:148: RuntimeWarning: overflow encountered in ubyte_scalars\n",
      "  return (self.ram[0x86] - self.ram[0x071c]) % 256\n",
      "[stderr:10] \n",
      "c:\\users\\arthu\\appdata\\local\\continuum\\anaconda3\\lib\\site-packages\\gym_super_mario_bros\\smb_env.py:148: RuntimeWarning: overflow encountered in ubyte_scalars\n",
      "  return (self.ram[0x86] - self.ram[0x071c]) % 256\n",
      "[stderr:13] \n",
      "c:\\users\\arthu\\appdata\\local\\continuum\\anaconda3\\lib\\site-packages\\gym_super_mario_bros\\smb_env.py:148: RuntimeWarning: overflow encountered in ubyte_scalars\n",
      "  return (self.ram[0x86] - self.ram[0x071c]) % 256\n",
      "[stderr:16] \n",
      "c:\\users\\arthu\\appdata\\local\\continuum\\anaconda3\\lib\\site-packages\\gym_super_mario_bros\\smb_env.py:148: RuntimeWarning: overflow encountered in ubyte_scalars\n",
      "  return (self.ram[0x86] - self.ram[0x071c]) % 256\n",
      "[stderr:17] \n",
      "c:\\users\\arthu\\appdata\\local\\continuum\\anaconda3\\lib\\site-packages\\gym_super_mario_bros\\smb_env.py:148: RuntimeWarning: overflow encountered in ubyte_scalars\n",
      "  return (self.ram[0x86] - self.ram[0x071c]) % 256\n",
      "[stderr:18] \n",
      "c:\\users\\arthu\\appdata\\local\\continuum\\anaconda3\\lib\\site-packages\\gym_super_mario_bros\\smb_env.py:148: RuntimeWarning: overflow encountered in ubyte_scalars\n",
      "  return (self.ram[0x86] - self.ram[0x071c]) % 256\n",
      "[stderr:20] \n",
      "c:\\users\\arthu\\appdata\\local\\continuum\\anaconda3\\lib\\site-packages\\gym_super_mario_bros\\smb_env.py:148: RuntimeWarning: overflow encountered in ubyte_scalars\n",
      "  return (self.ram[0x86] - self.ram[0x071c]) % 256\n",
      "[stderr:22] \n",
      "c:\\users\\arthu\\appdata\\local\\continuum\\anaconda3\\lib\\site-packages\\gym_super_mario_bros\\smb_env.py:148: RuntimeWarning: overflow encountered in ubyte_scalars\n",
      "  return (self.ram[0x86] - self.ram[0x071c]) % 256\n",
      "[stderr:25] \n",
      "c:\\users\\arthu\\appdata\\local\\continuum\\anaconda3\\lib\\site-packages\\gym_super_mario_bros\\smb_env.py:148: RuntimeWarning: overflow encountered in ubyte_scalars\n",
      "  return (self.ram[0x86] - self.ram[0x071c]) % 256\n",
      "[stderr:28] \n",
      "c:\\users\\arthu\\appdata\\local\\continuum\\anaconda3\\lib\\site-packages\\gym_super_mario_bros\\smb_env.py:148: RuntimeWarning: overflow encountered in ubyte_scalars\n",
      "  return (self.ram[0x86] - self.ram[0x071c]) % 256\n",
      "[stderr:29] \n",
      "c:\\users\\arthu\\appdata\\local\\continuum\\anaconda3\\lib\\site-packages\\gym_super_mario_bros\\smb_env.py:148: RuntimeWarning: overflow encountered in ubyte_scalars\n",
      "  return (self.ram[0x86] - self.ram[0x071c]) % 256\n",
      "[stderr:30] \n",
      "c:\\users\\arthu\\appdata\\local\\continuum\\anaconda3\\lib\\site-packages\\gym_super_mario_bros\\smb_env.py:148: RuntimeWarning: overflow encountered in ubyte_scalars\n",
      "  return (self.ram[0x86] - self.ram[0x071c]) % 256\n",
      "[stderr:31] \n",
      "c:\\users\\arthu\\appdata\\local\\continuum\\anaconda3\\lib\\site-packages\\gym_super_mario_bros\\smb_env.py:148: RuntimeWarning: overflow encountered in ubyte_scalars\n",
      "  return (self.ram[0x86] - self.ram[0x071c]) % 256\n"
     ]
    }
   ],
   "source": [
    "generation = [Agent() for i in range(num_agents)]\n",
    "\n",
    "start_time = time.time()\n",
    "\n",
    "ans = parallel_run(rc, generation)\n",
    "\n",
    "end_time = time.time()\n",
    "\n",
    "print('Parallel time:', round(end_time - start_time, 3))\n",
    "print('Ans:', ans)"
   ]
  },
  {
   "cell_type": "code",
   "execution_count": 7,
   "metadata": {},
   "outputs": [
    {
     "name": "stderr",
     "output_type": "stream",
     "text": [
      "C:\\Users\\arthu\\AppData\\Local\\Continuum\\anaconda3\\lib\\site-packages\\gym_super_mario_bros\\smb_env.py:148: RuntimeWarning: overflow encountered in ubyte_scalars\n",
      "  return (self.ram[0x86] - self.ram[0x071c]) % 256\n"
     ]
    },
    {
     "name": "stdout",
     "output_type": "stream",
     "text": [
      "Sequential time: 161.423\n",
      "Ans: [-25, 680, 680, -25, 680, 741, -25, -65, -25, 737, -25, 741, -25, -65, -25, 741, -25, 680, 680, 680, 737, 737, 680, -65, 680, 680, 680, 741, 741, -25, -25, 680]\n"
     ]
    }
   ],
   "source": [
    "generation = [Agent() for i in range(num_agents)]\n",
    "\n",
    "start_time = time.time()\n",
    "\n",
    "ans = [sum(agent.get_reward()) for agent in generation]\n",
    "\n",
    "end_time = time.time()\n",
    "\n",
    "print('Sequential time:', round(end_time - start_time, 3))\n",
    "print('Ans:', ans)"
   ]
  },
  {
   "cell_type": "code",
   "execution_count": 11,
   "metadata": {},
   "outputs": [],
   "source": [
    "for agent in generation:\n",
    "    pass"
   ]
  },
  {
   "cell_type": "code",
   "execution_count": 16,
   "metadata": {},
   "outputs": [
    {
     "data": {
      "text/plain": [
       "['__class__',\n",
       " '__delattr__',\n",
       " '__dict__',\n",
       " '__dir__',\n",
       " '__doc__',\n",
       " '__eq__',\n",
       " '__format__',\n",
       " '__ge__',\n",
       " '__getattribute__',\n",
       " '__gt__',\n",
       " '__hash__',\n",
       " '__init__',\n",
       " '__init_subclass__',\n",
       " '__le__',\n",
       " '__lt__',\n",
       " '__module__',\n",
       " '__ne__',\n",
       " '__new__',\n",
       " '__reduce__',\n",
       " '__reduce_ex__',\n",
       " '__repr__',\n",
       " '__setattr__',\n",
       " '__sizeof__',\n",
       " '__slotnames__',\n",
       " '__str__',\n",
       " '__subclasshook__',\n",
       " '__weakref__',\n",
       " 'activation',\n",
       " 'buffer',\n",
       " 'conv_model',\n",
       " 'final_model',\n",
       " 'get_conv_model',\n",
       " 'get_final_model',\n",
       " 'get_weights',\n",
       " 'input_shape',\n",
       " 'output_dim',\n",
       " 'predict',\n",
       " 'summary']"
      ]
     },
     "execution_count": 16,
     "metadata": {},
     "output_type": "execute_result"
    }
   ],
   "source": [
    "dir(agent.model)"
   ]
  },
  {
   "cell_type": "code",
   "execution_count": 21,
   "metadata": {},
   "outputs": [
    {
     "data": {
      "text/plain": [
       "['__call__',\n",
       " '__class__',\n",
       " '__delattr__',\n",
       " '__dict__',\n",
       " '__dir__',\n",
       " '__doc__',\n",
       " '__eq__',\n",
       " '__format__',\n",
       " '__ge__',\n",
       " '__getattribute__',\n",
       " '__getstate__',\n",
       " '__gt__',\n",
       " '__hash__',\n",
       " '__init__',\n",
       " '__init_subclass__',\n",
       " '__le__',\n",
       " '__lt__',\n",
       " '__module__',\n",
       " '__ne__',\n",
       " '__new__',\n",
       " '__reduce__',\n",
       " '__reduce_ex__',\n",
       " '__repr__',\n",
       " '__setattr__',\n",
       " '__setstate__',\n",
       " '__sizeof__',\n",
       " '__str__',\n",
       " '__subclasshook__',\n",
       " '__weakref__',\n",
       " '_add_inbound_node',\n",
       " '_add_unique_metric_name',\n",
       " '_base_init',\n",
       " '_built',\n",
       " '_cache_output_metric_attributes',\n",
       " '_check_trainable_weights_consistency',\n",
       " '_compute_previous_mask',\n",
       " '_expects_training_arg',\n",
       " '_feed_input_names',\n",
       " '_feed_input_shapes',\n",
       " '_feed_inputs',\n",
       " '_get_callback_model',\n",
       " '_get_existing_metric',\n",
       " '_get_node_attribute_at_index',\n",
       " '_get_training_eval_metrics',\n",
       " '_handle_metrics',\n",
       " '_handle_per_output_metrics',\n",
       " '_inbound_nodes',\n",
       " '_init_graph_network',\n",
       " '_init_subclassed_network',\n",
       " '_initial_weights',\n",
       " '_input_coordinates',\n",
       " '_input_layers',\n",
       " '_is_compiled',\n",
       " '_is_graph_network',\n",
       " '_layers',\n",
       " '_layers_by_depth',\n",
       " '_losses',\n",
       " '_make_predict_function',\n",
       " '_make_test_function',\n",
       " '_make_train_function',\n",
       " '_metrics',\n",
       " '_network_nodes',\n",
       " '_node_key',\n",
       " '_nodes_by_depth',\n",
       " '_non_trainable_weights',\n",
       " '_outbound_nodes',\n",
       " '_output_coordinates',\n",
       " '_output_layers',\n",
       " '_output_mask_cache',\n",
       " '_output_shape_cache',\n",
       " '_output_tensor_cache',\n",
       " '_per_input_losses',\n",
       " '_per_input_updates',\n",
       " '_prepare_total_loss',\n",
       " '_set_inputs',\n",
       " '_set_metric_attributes',\n",
       " '_set_per_output_metric_attributes',\n",
       " '_set_sample_weight_attributes',\n",
       " '_standardize_user_data',\n",
       " '_trainable_weights',\n",
       " '_updated_config',\n",
       " '_updates',\n",
       " '_uses_dynamic_learning_phase',\n",
       " '_uses_inputs_arg',\n",
       " '_validate_or_infer_batch_size',\n",
       " 'add_loss',\n",
       " 'add_metric',\n",
       " 'add_update',\n",
       " 'add_weight',\n",
       " 'assert_input_compatibility',\n",
       " 'build',\n",
       " 'built',\n",
       " 'call',\n",
       " 'compile',\n",
       " 'compute_mask',\n",
       " 'compute_output_shape',\n",
       " 'count_params',\n",
       " 'dtype',\n",
       " 'evaluate',\n",
       " 'evaluate_generator',\n",
       " 'fit',\n",
       " 'fit_generator',\n",
       " 'from_config',\n",
       " 'get_config',\n",
       " 'get_input_at',\n",
       " 'get_input_mask_at',\n",
       " 'get_input_shape_at',\n",
       " 'get_layer',\n",
       " 'get_losses_for',\n",
       " 'get_output_at',\n",
       " 'get_output_mask_at',\n",
       " 'get_output_shape_at',\n",
       " 'get_updates_for',\n",
       " 'get_weights',\n",
       " 'input',\n",
       " 'input_mask',\n",
       " 'input_names',\n",
       " 'input_shape',\n",
       " 'input_spec',\n",
       " 'inputs',\n",
       " 'layers',\n",
       " 'load_weights',\n",
       " 'losses',\n",
       " 'metrics',\n",
       " 'metrics_names',\n",
       " 'name',\n",
       " 'non_trainable_weights',\n",
       " 'optimizer',\n",
       " 'output',\n",
       " 'output_mask',\n",
       " 'output_names',\n",
       " 'output_shape',\n",
       " 'outputs',\n",
       " 'predict',\n",
       " 'predict_function',\n",
       " 'predict_generator',\n",
       " 'predict_on_batch',\n",
       " 'reset_metrics',\n",
       " 'reset_states',\n",
       " 'run_internal_graph',\n",
       " 'save',\n",
       " 'save_weights',\n",
       " 'set_weights',\n",
       " 'state_updates',\n",
       " 'stateful',\n",
       " 'stop_training',\n",
       " 'summary',\n",
       " 'supports_masking',\n",
       " 'test_on_batch',\n",
       " 'to_json',\n",
       " 'to_yaml',\n",
       " 'train_on_batch',\n",
       " 'trainable',\n",
       " 'trainable_weights',\n",
       " 'updates',\n",
       " 'uses_learning_phase',\n",
       " 'weights']"
      ]
     },
     "execution_count": 21,
     "metadata": {},
     "output_type": "execute_result"
    }
   ],
   "source": [
    "dir(agent.model.final_model)"
   ]
  },
  {
   "cell_type": "code",
   "execution_count": 28,
   "metadata": {},
   "outputs": [],
   "source": [
    "agent.model.final_model.set_weights(agent.model.final_model.get_weights())"
   ]
  },
  {
   "cell_type": "code",
   "execution_count": null,
   "metadata": {},
   "outputs": [],
   "source": []
  }
 ],
 "metadata": {
  "kernelspec": {
   "display_name": "Python 3",
   "language": "python",
   "name": "python3"
  },
  "language_info": {
   "codemirror_mode": {
    "name": "ipython",
    "version": 3
   },
   "file_extension": ".py",
   "mimetype": "text/x-python",
   "name": "python",
   "nbconvert_exporter": "python",
   "pygments_lexer": "ipython3",
   "version": "3.7.4"
  }
 },
 "nbformat": 4,
 "nbformat_minor": 2
}
