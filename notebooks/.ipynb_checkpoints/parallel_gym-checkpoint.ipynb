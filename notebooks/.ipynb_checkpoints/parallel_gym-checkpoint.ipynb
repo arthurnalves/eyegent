{
 "cells": [
  {
   "cell_type": "code",
   "execution_count": 17,
   "metadata": {},
   "outputs": [],
   "source": [
    "def pxlocal(line, cell):\n",
    "    ip = get_ipython()\n",
    "    ip.run_cell_magic(\"px\", line, cell)\n",
    "    ip.run_cell(cell)\n",
    "get_ipython().register_magic_function(pxlocal, \"cell\")"
   ]
  },
  {
   "cell_type": "code",
   "execution_count": 18,
   "metadata": {
    "collapsed": true
   },
   "outputs": [],
   "source": [
    "import subprocess\n",
    "import ipyparallel as ipp\n",
    "\n",
    "num_engines = 16\n",
    "subprocess.Popen([\"ipcluster\", \"start\", \"-n={:d}\".format(num_engines)])\n",
    "\n",
    "c = ipp.Client()"
   ]
  },
  {
   "cell_type": "code",
   "execution_count": 23,
   "metadata": {},
   "outputs": [],
   "source": [
    "%%pxlocal\n",
    "\n",
    "from nes_py.wrappers import JoypadSpace\n",
    "import gym_super_mario_bros\n",
    "from gym_super_mario_bros.actions import SIMPLE_MOVEMENT\n",
    "from gym import wrappers\n",
    "from IPython.display import Video\n",
    "import io\n",
    "import base64\n",
    "from IPython.display import HTML\n",
    "import numpy as np\n",
    "\n",
    "class Agent:\n",
    "    \n",
    "    def __init__(self):\n",
    "        self.state = None\n",
    "        self.reward = None\n",
    "        self.done = None\n",
    "        self.info = None\n",
    "    \n",
    "    def make_env(self, mode = None):\n",
    "        env = gym_super_mario_bros.make('SuperMarioBros-v0')\n",
    "        env = JoypadSpace(env, SIMPLE_MOVEMENT)\n",
    "        if mode == 'monitor':\n",
    "            env = wrappers.Monitor(env, directory, force = True)\n",
    "        env.reset()\n",
    "        return env\n",
    "    \n",
    "    def reset_data(self):\n",
    "        self.state = []\n",
    "        self.reward = []\n",
    "        self.done = []\n",
    "        self.info = []\n",
    "    \n",
    "    def update(self, state, reward, done, info):\n",
    "        self.state.append(state)\n",
    "        self.reward.append(reward)\n",
    "        self.done.append(done)\n",
    "        self.done.append(info)\n",
    "            \n",
    "        \n",
    "    def run(self, max_steps = 500, mode = None, directory = './gym-results/'):    \n",
    "        env = self.make_env(mode = mode)\n",
    "        self.reset_data()\n",
    "        \n",
    "        for step in range(max_steps):\n",
    "            state, reward, done, info = env.step(env.action_space.sample())\n",
    "            self.update(state, reward, done, info)\n",
    "            \n",
    "            if mode == 'render':\n",
    "                env.render()\n",
    "\n",
    "        if mode == 'monitor':\n",
    "            file_name = directory + 'openaigym.video.%s.video000000.mp4'% env.file_infix\n",
    "            mp4 = Video(file_name, width = 600, height = 450)\n",
    "            display(mp4)\n",
    "\n",
    "        if mode == 'render':    \n",
    "            env.close()\n",
    "    \n",
    "    def get_reward(self):\n",
    "        if self.reward == None:\n",
    "            self.run()\n",
    "        return self.reward\n",
    "    \n",
    "    \n",
    "    def itsame(self):\n",
    "        return 'Mario!'\n",
    "    \n",
    "    \n",
    "mario = Agent()"
   ]
  },
  {
   "cell_type": "code",
   "execution_count": 20,
   "metadata": {},
   "outputs": [
    {
     "data": {
      "text/plain": [
       "<AsyncResult: _push>"
      ]
     },
     "execution_count": 20,
     "metadata": {},
     "output_type": "execute_result"
    }
   ],
   "source": [
    "par_dict = dict()\n",
    "\n",
    "c[:].push(par_dict)"
   ]
  },
  {
   "cell_type": "code",
   "execution_count": 21,
   "metadata": {},
   "outputs": [
    {
     "name": "stdout",
     "output_type": "stream",
     "text": [
      "Parallel time: 7.95\n",
      "Ans: [782, 528, 529, 528, 371, 609, 529, 529, 388, 483, 529, 510, 784, 529, 778, 528]\n"
     ]
    }
   ],
   "source": [
    "import time\n",
    "\n",
    "start_time = time.time()\n",
    "\n",
    "ans = c[:].apply_async(lambda i: sum(mario.get_reward()), c.ids).get()\n",
    "\n",
    "end_time = time.time()\n",
    "\n",
    "print('Parallel time:', round(end_time - start_time, 3))\n",
    "print('Ans:', ans)"
   ]
  },
  {
   "cell_type": "code",
   "execution_count": 25,
   "metadata": {},
   "outputs": [
    {
     "name": "stdout",
     "output_type": "stream",
     "text": [
      "Parallel time: 23.312\n",
      "Ans: [529, 741, 613, 528, 529, 369, 874, 529, 657, 529, 529, 527, 529, 529, 528, 409]\n"
     ]
    }
   ],
   "source": [
    "import time\n",
    "\n",
    "start_time = time.time()\n",
    "\n",
    "ans = [sum(Agent().get_reward()) for i in c.ids]\n",
    "\n",
    "end_time = time.time()\n",
    "\n",
    "print('Parallel time:', round(end_time - start_time, 3))\n",
    "print('Ans:', ans)"
   ]
  },
  {
   "cell_type": "code",
   "execution_count": null,
   "metadata": {},
   "outputs": [],
   "source": []
  }
 ],
 "metadata": {
  "kernelspec": {
   "display_name": "Python 3",
   "language": "python",
   "name": "python3"
  },
  "language_info": {
   "codemirror_mode": {
    "name": "ipython",
    "version": 3
   },
   "file_extension": ".py",
   "mimetype": "text/x-python",
   "name": "python",
   "nbconvert_exporter": "python",
   "pygments_lexer": "ipython3",
   "version": "3.7.4"
  }
 },
 "nbformat": 4,
 "nbformat_minor": 2
}
