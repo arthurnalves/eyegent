{
 "cells": [
  {
   "cell_type": "code",
   "execution_count": 1,
   "metadata": {},
   "outputs": [
    {
     "name": "stderr",
     "output_type": "stream",
     "text": [
      "Using TensorFlow backend.\n"
     ]
    }
   ],
   "source": [
    "import sys\n",
    "sys.path.insert(1, 'C://Users//arthu//git//eyenes')\n",
    "from eyenes.generation import Generation\n",
    "import pickle\n",
    "import numpy as np"
   ]
  },
  {
   "cell_type": "code",
   "execution_count": 2,
   "metadata": {},
   "outputs": [],
   "source": [
    "dicto = {'size': 2, 'max_steps': 3000, 'freq': .2, 'buffer': 3,\n",
    "        'layer_prob': .5, 'intensity': 10, 'fps': 3, 'patience': 5,\n",
    "        'num_survivors': 1, 'similar_penalty': 1, 'mode': 'sequential'}"
   ]
  },
  {
   "cell_type": "code",
   "execution_count": 3,
   "metadata": {},
   "outputs": [],
   "source": [
    "def save_all(generation):\n",
    "    pickle.dump(generation.history, open('pickled_model/history.pkl','wb'))\n",
    "    for i, agent in enumerate(generation.agents):\n",
    "        pickle.dump(agent.model.model.get_weights(), open('pickled_model/weights/weight_' + str(i) + '.pkl', 'wb'))\n",
    "        pickle.dump(agent.lineage, open('pickled_model/lineages/lineage_' + str(i) + '.pkl', 'wb'))\n",
    "        \n",
    "def load_all(generation):\n",
    "    current_id = 0\n",
    "    for agent in generation.agents:\n",
    "        for lineage_id in agent.lineage:\n",
    "            if lineage_id > current_id:\n",
    "                current_id = lineage_id\n",
    "    generation.new_ID = current_id\n",
    "    generation.history = pickle.load(open('pickled_model/history.pkl','rb'))\n",
    "    for i, agent in enumerate(generation.agents):\n",
    "        agent.model.model.set_weights(pickle.load(open('pickled_model/weights/weight_' + str(i) + '.pkl', 'rb')))\n",
    "        agent.lineage = pickle.load(open('pickled_model/lineages/lineage_' + str(i) + '.pkl', 'rb'))"
   ]
  },
  {
   "cell_type": "code",
   "execution_count": 4,
   "metadata": {},
   "outputs": [],
   "source": [
    "generation = Generation(**dicto)\n",
    "#load_all(generation)"
   ]
  },
  {
   "cell_type": "code",
   "execution_count": 5,
   "metadata": {
    "scrolled": true
   },
   "outputs": [
    {
     "name": "stdout",
     "output_type": "stream",
     "text": [
      "Model: \"sequential_1\"\n",
      "_________________________________________________________________\n",
      "Layer (type)                 Output Shape              Param #   \n",
      "=================================================================\n",
      "lambda_1 (Lambda)            (1, 240, 256, 9)          0         \n",
      "_________________________________________________________________\n",
      "zero_padding2d_1 (ZeroPaddin (1, 256, 256, 9)          0         \n",
      "_________________________________________________________________\n",
      "average_pooling2d_1 (Average (1, 64, 64, 9)            0         \n",
      "_________________________________________________________________\n",
      "conv2d_1 (Conv2D)            (1, 32, 32, 18)           10386     \n",
      "_________________________________________________________________\n",
      "activation_1 (Activation)    (1, 32, 32, 18)           0         \n",
      "_________________________________________________________________\n",
      "conv2d_2 (Conv2D)            (1, 16, 16, 36)           10404     \n",
      "_________________________________________________________________\n",
      "activation_2 (Activation)    (1, 16, 16, 36)           0         \n",
      "_________________________________________________________________\n",
      "conv2d_3 (Conv2D)            (1, 8, 8, 72)             10440     \n",
      "_________________________________________________________________\n",
      "activation_3 (Activation)    (1, 8, 8, 72)             0         \n",
      "_________________________________________________________________\n",
      "conv2d_4 (Conv2D)            (1, 4, 4, 144)            41616     \n",
      "_________________________________________________________________\n",
      "activation_4 (Activation)    (1, 4, 4, 144)            0         \n",
      "_________________________________________________________________\n",
      "flatten_1 (Flatten)          (1, 2304)                 0         \n",
      "_________________________________________________________________\n",
      "dense_1 (Dense)              (1, 256)                  590080    \n",
      "_________________________________________________________________\n",
      "activation_5 (Activation)    (1, 256)                  0         \n",
      "_________________________________________________________________\n",
      "dense_2 (Dense)              (1, 128)                  32896     \n",
      "_________________________________________________________________\n",
      "activation_6 (Activation)    (1, 128)                  0         \n",
      "_________________________________________________________________\n",
      "dense_3 (Dense)              (1, 12)                   1548      \n",
      "=================================================================\n",
      "Total params: 697,370\n",
      "Trainable params: 697,370\n",
      "Non-trainable params: 0\n",
      "_________________________________________________________________\n"
     ]
    }
   ],
   "source": [
    "generation.agents[0].model.model.summary()"
   ]
  },
  {
   "cell_type": "code",
   "execution_count": 6,
   "metadata": {
    "scrolled": false
   },
   "outputs": [
    {
     "ename": "AttributeError",
     "evalue": "'Agent' object has no attribute 'save'",
     "output_type": "error",
     "traceback": [
      "\u001b[1;31m---------------------------------------------------------------------------\u001b[0m",
      "\u001b[1;31mAttributeError\u001b[0m                            Traceback (most recent call last)",
      "\u001b[1;32m<ipython-input-6-20ad69aab5a7>\u001b[0m in \u001b[0;36m<module>\u001b[1;34m\u001b[0m\n\u001b[0;32m      1\u001b[0m \u001b[1;32mfor\u001b[0m \u001b[0mi\u001b[0m \u001b[1;32min\u001b[0m \u001b[0mrange\u001b[0m\u001b[1;33m(\u001b[0m\u001b[1;36m1000\u001b[0m\u001b[1;33m)\u001b[0m\u001b[1;33m:\u001b[0m\u001b[1;33m\u001b[0m\u001b[1;33m\u001b[0m\u001b[0m\n\u001b[1;32m----> 2\u001b[1;33m     \u001b[0mgeneration\u001b[0m\u001b[1;33m.\u001b[0m\u001b[0mevolution_step\u001b[0m\u001b[1;33m(\u001b[0m\u001b[0mplot\u001b[0m \u001b[1;33m=\u001b[0m \u001b[1;32mTrue\u001b[0m\u001b[1;33m)\u001b[0m\u001b[1;33m\u001b[0m\u001b[1;33m\u001b[0m\u001b[0m\n\u001b[0m\u001b[0;32m      3\u001b[0m     \u001b[0msave_all\u001b[0m\u001b[1;33m(\u001b[0m\u001b[0mgeneration\u001b[0m\u001b[1;33m)\u001b[0m\u001b[1;33m\u001b[0m\u001b[1;33m\u001b[0m\u001b[0m\n",
      "\u001b[1;32mC://Users//arthu//git//eyenes\\eyenes\\generation.py\u001b[0m in \u001b[0;36mevolution_step\u001b[1;34m(self, max_steps, chronometer, plot)\u001b[0m\n\u001b[0;32m    124\u001b[0m         \u001b[1;32mif\u001b[0m \u001b[0mtop_reward\u001b[0m \u001b[1;32mnot\u001b[0m \u001b[1;32min\u001b[0m \u001b[0mself\u001b[0m\u001b[1;33m.\u001b[0m\u001b[0mtop_rewards\u001b[0m\u001b[1;33m:\u001b[0m\u001b[1;33m\u001b[0m\u001b[1;33m\u001b[0m\u001b[0m\n\u001b[0;32m    125\u001b[0m             \u001b[0mself\u001b[0m\u001b[1;33m.\u001b[0m\u001b[0mtop_rewards\u001b[0m\u001b[1;33m.\u001b[0m\u001b[0mappend\u001b[0m\u001b[1;33m(\u001b[0m\u001b[0mtop_reward\u001b[0m\u001b[1;33m)\u001b[0m\u001b[1;33m\u001b[0m\u001b[1;33m\u001b[0m\u001b[0m\n\u001b[1;32m--> 126\u001b[1;33m             \u001b[0mself\u001b[0m\u001b[1;33m.\u001b[0m\u001b[0magents\u001b[0m\u001b[1;33m[\u001b[0m\u001b[0magent_id\u001b[0m\u001b[1;33m]\u001b[0m\u001b[1;33m.\u001b[0m\u001b[0msave\u001b[0m\u001b[1;33m(\u001b[0m\u001b[1;33m)\u001b[0m\u001b[1;33m\u001b[0m\u001b[1;33m\u001b[0m\u001b[0m\n\u001b[0m\u001b[0;32m    127\u001b[0m \u001b[1;33m\u001b[0m\u001b[0m\n\u001b[0;32m    128\u001b[0m         \u001b[0mend_time\u001b[0m \u001b[1;33m=\u001b[0m \u001b[0mtime\u001b[0m\u001b[1;33m.\u001b[0m\u001b[0mtime\u001b[0m\u001b[1;33m(\u001b[0m\u001b[1;33m)\u001b[0m\u001b[1;33m\u001b[0m\u001b[1;33m\u001b[0m\u001b[0m\n",
      "\u001b[1;31mAttributeError\u001b[0m: 'Agent' object has no attribute 'save'"
     ]
    }
   ],
   "source": [
    "for i in range(1000):\n",
    "    generation.evolution_step(plot = True)\n",
    "    save_all(generation)"
   ]
  },
  {
   "cell_type": "code",
   "execution_count": 12,
   "metadata": {},
   "outputs": [],
   "source": [
    "def safe_reward(agent):\n",
    "    if agent.total_reward is not None:\n",
    "        return agent.total_reward\n",
    "    else:\n",
    "        return -1\n",
    "    \n",
    "rewards = [safe_reward(agent) for agent in generation.agents if agent.total_reward]\n",
    "generation.agents[np.argmax(rewards)].max_steps = 999999\n",
    "generation.agents[np.argmax(rewards)].run(mode = 'render')"
   ]
  },
  {
   "cell_type": "code",
   "execution_count": null,
   "metadata": {},
   "outputs": [],
   "source": [
    "generation.agents[0].print_state()"
   ]
  },
  {
   "cell_type": "code",
   "execution_count": null,
   "metadata": {},
   "outputs": [],
   "source": [
    "generation.agents[0].take_action()"
   ]
  },
  {
   "cell_type": "code",
   "execution_count": null,
   "metadata": {},
   "outputs": [],
   "source": [
    "from gym_super_mario_bros.actions import COMPLEX_MOVEMENT as MOVEMENT"
   ]
  },
  {
   "cell_type": "code",
   "execution_count": null,
   "metadata": {},
   "outputs": [],
   "source": [
    "generation.agents[0].patience = 1"
   ]
  },
  {
   "cell_type": "code",
   "execution_count": null,
   "metadata": {},
   "outputs": [],
   "source": []
  }
 ],
 "metadata": {
  "kernelspec": {
   "display_name": "Python 3",
   "language": "python",
   "name": "python3"
  },
  "language_info": {
   "codemirror_mode": {
    "name": "ipython",
    "version": 3
   },
   "file_extension": ".py",
   "mimetype": "text/x-python",
   "name": "python",
   "nbconvert_exporter": "python",
   "pygments_lexer": "ipython3",
   "version": "3.7.4"
  }
 },
 "nbformat": 4,
 "nbformat_minor": 2
}
