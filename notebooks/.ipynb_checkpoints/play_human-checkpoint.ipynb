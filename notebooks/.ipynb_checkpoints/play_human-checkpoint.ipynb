{
 "cells": [
  {
   "cell_type": "code",
   "execution_count": 1,
   "metadata": {},
   "outputs": [],
   "source": [
    "from nes_py.app.play_human import play_human\n",
    "import gym_super_mario_bros\n",
    "import numpy as np\n",
    "import time\n",
    "\n",
    "#Keys:\n",
    "#Up/Down = W/S\n",
    "#Left/Right = A/D\n",
    "#Jump/Run = O/P\n",
    "#Close = Esc\n",
    "\n",
    "env = gym_super_mario_bros.make('SuperMarioBros-v0')\n",
    "\n",
    "data = dict()\n",
    "\n",
    "\n",
    "class Callback:\n",
    "    \n",
    "    def __init__(self):\n",
    "        self.data = dict()\n",
    "        keys = 'state action reward done next_state'.split(' ')\n",
    "        for key in keys:\n",
    "            self.data[key] = []\n",
    "\n",
    "    def update(self, state, action, reward, done, next_state):\n",
    "        \n",
    "        keys = 'state action reward done next_state'.split(' ')\n",
    "        for value, key in zip([state, action, reward, done, next_state], keys):\n",
    "            self.data[key].append(np.array(value))\n",
    "\n",
    "        time.sleep(1/60)\n",
    "\n",
    "callback = Callback()        \n",
    "\n",
    "play_human(env, callback.update)"
   ]
  },
  {
   "cell_type": "code",
   "execution_count": null,
   "metadata": {},
   "outputs": [],
   "source": []
  }
 ],
 "metadata": {
  "kernelspec": {
   "display_name": "Python 3",
   "language": "python",
   "name": "python3"
  },
  "language_info": {
   "codemirror_mode": {
    "name": "ipython",
    "version": 3
   },
   "file_extension": ".py",
   "mimetype": "text/x-python",
   "name": "python",
   "nbconvert_exporter": "python",
   "pygments_lexer": "ipython3",
   "version": "3.7.4"
  }
 },
 "nbformat": 4,
 "nbformat_minor": 2
}
