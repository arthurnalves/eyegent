{
 "cells": [
  {
   "cell_type": "code",
   "execution_count": 10,
   "metadata": {},
   "outputs": [],
   "source": [
    "from nes_py.app.play_human import play_human\n",
    "import gym_super_mario_bros\n",
    "import numpy as np\n",
    "import time\n",
    "\n",
    "#Keys:\n",
    "#Up/Down = W/S\n",
    "#Left/Right = A/D\n",
    "#Jump/Run = O/P\n",
    "#Close = Esc\n",
    "\n",
    "env = gym_super_mario_bros.make('SuperMarioBros-v0')\n",
    "\n",
    "data = dict()\n",
    "\n",
    "class Observer:\n",
    "    \n",
    "    def __init__(self):\n",
    "        self.data = dict()\n",
    "        keys = 'state action reward done next_state'.split(' ')\n",
    "        for key in keys:\n",
    "            self.data[key] = []\n",
    "        self.data['info'] = dict()\n",
    "        for dict_key in 'coins flag_get life score stage status time world x_pos x_pos_screen y_pos'.split():\n",
    "            self.data['info'][dict_key] = []\n",
    "\n",
    "    def update(self, state, action, reward, done, next_state, info):\n",
    "        \n",
    "        keys = 'state action reward done next_state'.split(' ')\n",
    "        for value, key in zip([state, action, reward, done, next_state], keys):\n",
    "            self.data[key].append(np.array(value))\n",
    "        for key, value in info.items():\n",
    "            self.data['info'][key].append(value)\n",
    "        \n",
    "        time.sleep(1/60)\n",
    "\n",
    "observer = Observer()        \n",
    "\n",
    "play_human(env, observer.update)"
   ]
  },
  {
   "cell_type": "code",
   "execution_count": 11,
   "metadata": {},
   "outputs": [
    {
     "name": "stdout",
     "output_type": "stream",
     "text": [
      "state (455, 240, 256, 3)\n",
      "action (455,)\n",
      "reward (455,)\n",
      "done (455,)\n",
      "next_state (455, 240, 256, 3)\n",
      "info ()\n"
     ]
    }
   ],
   "source": [
    "for key, value in observer.data.items():\n",
    "    print(key, np.shape(value))"
   ]
  }
 ],
 "metadata": {
  "kernelspec": {
   "display_name": "Python 3",
   "language": "python",
   "name": "python3"
  },
  "language_info": {
   "codemirror_mode": {
    "name": "ipython",
    "version": 3
   },
   "file_extension": ".py",
   "mimetype": "text/x-python",
   "name": "python",
   "nbconvert_exporter": "python",
   "pygments_lexer": "ipython3",
   "version": "3.7.4"
  }
 },
 "nbformat": 4,
 "nbformat_minor": 2
}
