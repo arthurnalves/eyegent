{
 "cells": [
  {
   "cell_type": "code",
   "execution_count": 5,
   "metadata": {},
   "outputs": [
    {
     "name": "stderr",
     "output_type": "stream",
     "text": [
      "D:\\Anaconda3\\lib\\site-packages\\gym_super_mario_bros\\smb_env.py:148: RuntimeWarning: overflow encountered in ubyte_scalars\n",
      "  return (self.ram[0x86] - self.ram[0x071c]) % 256\n"
     ]
    }
   ],
   "source": [
    "from nes_py.app.play_human import play_human\n",
    "import gym_super_mario_bros\n",
    "import numpy as np\n",
    "import time\n",
    "\n",
    "#Keys:\n",
    "#Up/Down = W/S\n",
    "#Left/Right = A/D\n",
    "#Jump/Run = O/P\n",
    "#Close = Esc\n",
    "\n",
    "env = gym_super_mario_bros.make('SuperMarioBros-v0')\n",
    "\n",
    "data = dict()\n",
    "\n",
    "\n",
    "class Observer:\n",
    "    \n",
    "    def __init__(self):\n",
    "        self.data = dict()\n",
    "        keys = 'state action reward done next_state'.split(' ')\n",
    "        for key in keys:\n",
    "            self.data[key] = []\n",
    "\n",
    "    def update(self, state, action, reward, done, next_state):\n",
    "        \n",
    "        keys = 'state action reward done next_state'.split(' ')\n",
    "        for value, key in zip([state, action, reward, done, next_state], keys):\n",
    "            self.data[key].append(np.array(value))\n",
    "\n",
    "        time.sleep(1/60)\n",
    "\n",
    "observer = Observer()        \n",
    "\n",
    "play_human(env, observer.update)"
   ]
  },
  {
   "cell_type": "code",
   "execution_count": 6,
   "metadata": {},
   "outputs": [
    {
     "name": "stdout",
     "output_type": "stream",
     "text": [
      "state (243, 240, 256, 3)\n",
      "action (243,)\n",
      "reward (243,)\n",
      "done (243,)\n",
      "next_state (243, 240, 256, 3)\n"
     ]
    }
   ],
   "source": [
    "for key, value in observer.data.items():\n",
    "    print(key, np.shape(value))"
   ]
  },
  {
   "cell_type": "code",
   "execution_count": null,
   "metadata": {},
   "outputs": [],
   "source": []
  }
 ],
 "metadata": {
  "kernelspec": {
   "display_name": "Python 3",
   "language": "python",
   "name": "python3"
  },
  "language_info": {
   "codemirror_mode": {
    "name": "ipython",
    "version": 3
   },
   "file_extension": ".py",
   "mimetype": "text/x-python",
   "name": "python",
   "nbconvert_exporter": "python",
   "pygments_lexer": "ipython3",
   "version": "3.7.4"
  }
 },
 "nbformat": 4,
 "nbformat_minor": 2
}
