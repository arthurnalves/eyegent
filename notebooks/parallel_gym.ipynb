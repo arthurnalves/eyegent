{
 "cells": [
  {
   "cell_type": "code",
   "execution_count": 1,
   "metadata": {},
   "outputs": [],
   "source": [
    "def pxlocal(line, cell):\n",
    "    ip = get_ipython()\n",
    "    ip.run_cell_magic(\"px\", line, cell)\n",
    "    ip.run_cell(cell)\n",
    "get_ipython().register_magic_function(pxlocal, \"cell\")"
   ]
  },
  {
   "cell_type": "code",
   "execution_count": 5,
   "metadata": {
    "scrolled": true
   },
   "outputs": [
    {
     "name": "stdout",
     "output_type": "stream",
     "text": [
      "Waiting for 0 seconds\n"
     ]
    }
   ],
   "source": [
    "import subprocess\n",
    "import ipyparallel as ipp\n",
    "import time\n",
    "from IPython.display import clear_output\n",
    "\n",
    "subprocess.Popen([\"ipcluster\", \"stop\"])\n",
    "time.sleep(10)\n",
    "\n",
    "num_agents = 8\n",
    "num_engines = 4\n",
    "subprocess.Popen([\"ipcluster\", \"start\", \"-n={:d}\".format(num_engines)])\n",
    "\n",
    "wait_time = 40\n",
    "# Waiting for clusters to start properly\n",
    "for i in range(wait_time):\n",
    "    clear_output(wait = True)\n",
    "    print('Waiting for', wait_time - (i+1), 'seconds')\n",
    "    time.sleep(1)\n",
    "    \n",
    "rc = ipp.Client()"
   ]
  },
  {
   "cell_type": "code",
   "execution_count": 6,
   "metadata": {},
   "outputs": [],
   "source": [
    "%%pxlocal\n",
    "\n",
    "from nes_py.wrappers import JoypadSpace\n",
    "import gym_super_mario_bros\n",
    "from gym_super_mario_bros.actions import SIMPLE_MOVEMENT\n",
    "from gym import wrappers\n",
    "from IPython.display import Video\n",
    "import io\n",
    "import base64\n",
    "from IPython.display import HTML\n",
    "import numpy as np\n",
    "\n",
    "class Agent:\n",
    "    \n",
    "    def __init__(self, update = ['reward']):\n",
    "        self.state = None\n",
    "        self.reward = None\n",
    "        self.done = None\n",
    "        self.info = None\n",
    "        self.next_state = None\n",
    "        self.update = update\n",
    "        \n",
    "    def take_action(self, env, mode = None):\n",
    "        return env.action_space.sample()\n",
    "    \n",
    "    def make_env(self, mode = None):\n",
    "        env = gym_super_mario_bros.make('SuperMarioBros-v0')\n",
    "        env = JoypadSpace(env, SIMPLE_MOVEMENT)\n",
    "        if mode == 'monitor':\n",
    "            env = wrappers.Monitor(env, directory, force = True)\n",
    "        return env\n",
    "    \n",
    "    def reset_data(self):\n",
    "        self.state = []\n",
    "        self.reward = []\n",
    "        self.done = []\n",
    "        self.info = dict()\n",
    "        self.next_state = []\n",
    "    \n",
    "    def gather_data(self, state, reward, done, info, next_state):\n",
    "        if 'reward' in self.update:\n",
    "            self.reward.append(reward)\n",
    "\n",
    "    def run(self, max_steps = 500, mode = None, directory = './gym-results/'):    \n",
    "        env = self.make_env(mode = mode)\n",
    "        self.reset_data()\n",
    "        \n",
    "        state = env.reset()\n",
    "        done = False\n",
    "        for step in range(max_steps):\n",
    "            if not done:\n",
    "                action = self.take_action(env)\n",
    "                next_state, reward, done, info = env.step(action)\n",
    "                self.gather_data(state, reward, done, info, next_state)\n",
    "\n",
    "                if mode == 'render':\n",
    "                    env.render()\n",
    "\n",
    "        if mode == 'monitor':\n",
    "            file_name = directory + 'openaigym.video.%s.video000000.mp4'% env.file_infix\n",
    "            mp4 = Video(file_name, width = 600, height = 450)\n",
    "            display(mp4)\n",
    "\n",
    "        if mode == 'render':    \n",
    "            env.close()\n",
    "    \n",
    "    def get_reward(self):\n",
    "        if self.reward == None:\n",
    "            self.run()\n",
    "        return self.reward\n",
    "    \n",
    "    def itsame(self):\n",
    "        return 'Mario!'"
   ]
  },
  {
   "cell_type": "code",
   "execution_count": 7,
   "metadata": {},
   "outputs": [],
   "source": [
    "rc = ipp.Client()\n",
    "generation = [Agent() for i in range(num_agents)]"
   ]
  },
  {
   "cell_type": "code",
   "execution_count": 12,
   "metadata": {},
   "outputs": [],
   "source": [
    "def parallel_run(rc, generation):\n",
    "    dview = rc[:]\n",
    "    dview.scatter('generation', generation)\n",
    "    [agent.run() for agent in generation]\n",
    "    return dview.gather('generation').get()"
   ]
  },
  {
   "cell_type": "code",
   "execution_count": 13,
   "metadata": {},
   "outputs": [
    {
     "name": "stdout",
     "output_type": "stream",
     "text": [
      "Parallel time: 3.21\n",
      "Ans: [529, 616, 529, 529, 529, 816, 385, 529]\n"
     ]
    },
    {
     "name": "stderr",
     "output_type": "stream",
     "text": [
      "[stderr:0] \n",
      "C:\\Users\\arthu\\Anaconda3\\lib\\site-packages\\gym_super_mario_bros\\smb_env.py:148: RuntimeWarning: overflow encountered in ubyte_scalars\n",
      "  return (self.ram[0x86] - self.ram[0x071c]) % 256\n",
      "[stderr:1] \n",
      "C:\\Users\\arthu\\Anaconda3\\lib\\site-packages\\gym_super_mario_bros\\smb_env.py:148: RuntimeWarning: overflow encountered in ubyte_scalars\n",
      "  return (self.ram[0x86] - self.ram[0x071c]) % 256\n",
      "[stderr:2] \n",
      "C:\\Users\\arthu\\Anaconda3\\lib\\site-packages\\gym_super_mario_bros\\smb_env.py:148: RuntimeWarning: overflow encountered in ubyte_scalars\n",
      "  return (self.ram[0x86] - self.ram[0x071c]) % 256\n",
      "[stderr:3] \n",
      "C:\\Users\\arthu\\Anaconda3\\lib\\site-packages\\gym_super_mario_bros\\smb_env.py:148: RuntimeWarning: overflow encountered in ubyte_scalars\n",
      "  return (self.ram[0x86] - self.ram[0x071c]) % 256\n"
     ]
    }
   ],
   "source": [
    "start_time = time.time()\n",
    "generation = parallel_run(rc, generation)\n",
    "end_time = time.time()\n",
    "\n",
    "ans = [sum(agent.reward) for agent in generation]\n",
    "\n",
    "print('Parallel time:', round(end_time - start_time, 3))\n",
    "print('Ans:', ans)"
   ]
  },
  {
   "cell_type": "code",
   "execution_count": 7,
   "metadata": {},
   "outputs": [
    {
     "name": "stderr",
     "output_type": "stream",
     "text": [
      "C:\\Users\\arthu\\AppData\\Local\\Continuum\\anaconda3\\lib\\site-packages\\gym_super_mario_bros\\smb_env.py:148: RuntimeWarning: overflow encountered in ubyte_scalars\n",
      "  return (self.ram[0x86] - self.ram[0x071c]) % 256\n"
     ]
    },
    {
     "name": "stdout",
     "output_type": "stream",
     "text": [
      "Sequential time: 266.293\n",
      "Ans: [782, 787, 787, 529, 529, 529, 529, 657, 528, 368, 674, 529, 528, 529, 529, 526, 529, 648, 615, 773, 686, 529, 529, 688, 529, 528, 529, 529, 529, 529, 529, 699, 787, 529, 691, 753, 529, 529, 529, 775, 529, 368, 529, 369, 529, 529, 529, 529, 528, 774, 634, 529, 442, 529, 768, 680, 529, 529, 529, 529, 529, 369, 372, 529, 528, 612, 736, 421, 529, 529, 620, 531, 529, 529, 369, 529, 529, 675, 369, 529, 529, 528, 772, 529, 657, 529, 529, 529, 528, 529, 483, 784, 528, 608, 626, 529, 529, 529, 529, 529]\n"
     ]
    }
   ],
   "source": [
    "start_time = time.time()\n",
    "\n",
    "ans = [sum(Agent().get_reward()) for agent in generation]\n",
    "\n",
    "end_time = time.time()\n",
    "\n",
    "print('Sequential time:', round(end_time - start_time, 3))\n",
    "print('Ans:', ans)"
   ]
  },
  {
   "cell_type": "code",
   "execution_count": 29,
   "metadata": {},
   "outputs": [],
   "source": [
    "%%pxlocal\n",
    "\n",
    "def seq_run(agents):\n",
    "    return [sum(agent.get_reward()) for agent in agents]"
   ]
  },
  {
   "cell_type": "code",
   "execution_count": 33,
   "metadata": {},
   "outputs": [
    {
     "data": {
      "text/plain": [
       "<AsyncResult: scatter>"
      ]
     },
     "execution_count": 33,
     "metadata": {},
     "output_type": "execute_result"
    }
   ],
   "source": [
    "rc[:].scatter('generation', generation)"
   ]
  },
  {
   "cell_type": "code",
   "execution_count": 34,
   "metadata": {},
   "outputs": [
    {
     "data": {
      "text/plain": [
       "[[<__main__.Agent at 0x1ccbe022e88>, <__main__.Agent at 0x1ccbe12e8c8>],\n",
       " [<__main__.Agent at 0x1ccbe12eec8>, <__main__.Agent at 0x1ccbdee4048>],\n",
       " [<__main__.Agent at 0x1ccbe12ef48>, <__main__.Agent at 0x1ccbdee45c8>],\n",
       " [<__main__.Agent at 0x1ccbdee4a08>, <__main__.Agent at 0x1ccbdee4c08>]]"
      ]
     },
     "execution_count": 34,
     "metadata": {},
     "output_type": "execute_result"
    }
   ],
   "source": [
    "rc[:]['generation']"
   ]
  },
  {
   "cell_type": "code",
   "execution_count": 41,
   "metadata": {},
   "outputs": [
    {
     "data": {
      "text/plain": [
       "[<__main__.Agent at 0x1ccbddd3248>,\n",
       " <__main__.Agent at 0x1ccbddd3ec8>,\n",
       " <__main__.Agent at 0x1ccbddd3c88>,\n",
       " <__main__.Agent at 0x1ccbe048688>,\n",
       " <__main__.Agent at 0x1ccbe0487c8>,\n",
       " <__main__.Agent at 0x1ccbe048b88>,\n",
       " <__main__.Agent at 0x1ccbe048dc8>,\n",
       " <__main__.Agent at 0x1ccbe171348>]"
      ]
     },
     "execution_count": 41,
     "metadata": {},
     "output_type": "execute_result"
    }
   ],
   "source": [
    "rc[:].gather('generation')"
   ]
  },
  {
   "cell_type": "code",
   "execution_count": 68,
   "metadata": {},
   "outputs": [],
   "source": [
    "dview = rc[:]\n",
    "\n",
    "def flatten(list_of_lists):\n",
    "    return [elem for sublist in list_of_lists for elem in sublist]\n",
    "\n",
    "\n",
    "@dview.remote(block=True)\n",
    "def ():\n",
    "    return [sum(agent.get_reward()) for agent in generation]\n",
    "    \n",
    "a = flatten(getpid())"
   ]
  },
  {
   "cell_type": "code",
   "execution_count": 69,
   "metadata": {},
   "outputs": [
    {
     "data": {
      "text/plain": [
       "[529, 616, 529, 529, 529, 816, 385, 529]"
      ]
     },
     "execution_count": 69,
     "metadata": {},
     "output_type": "execute_result"
    }
   ],
   "source": [
    "a"
   ]
  },
  {
   "cell_type": "code",
   "execution_count": null,
   "metadata": {},
   "outputs": [],
   "source": [
    "[y for x in list_of_lists for y in x]"
   ]
  }
 ],
 "metadata": {
  "kernelspec": {
   "display_name": "Python 3",
   "language": "python",
   "name": "python3"
  },
  "language_info": {
   "codemirror_mode": {
    "name": "ipython",
    "version": 3
   },
   "file_extension": ".py",
   "mimetype": "text/x-python",
   "name": "python",
   "nbconvert_exporter": "python",
   "pygments_lexer": "ipython3",
   "version": "3.7.4"
  }
 },
 "nbformat": 4,
 "nbformat_minor": 2
}
