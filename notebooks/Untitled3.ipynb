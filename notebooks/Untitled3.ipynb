{
 "cells": [
  {
   "cell_type": "code",
   "execution_count": 1,
   "metadata": {},
   "outputs": [],
   "source": [
    "class Environment:\n",
    "\n",
    "    def __init__(self, version = 0):\n",
    "        self.env = self.create_env(version)\n",
    "    \n",
    "    def create_env(self, version):\n",
    "        from nes_py.wrappers import BinarySpaceToDiscreteSpaceEnv\n",
    "        import gym_super_mario_bros\n",
    "        from gym_super_mario_bros.actions import SIMPLE_MOVEMENT\n",
    "        env = gym_super_mario_bros.make('SuperMarioBros-v' + str(version))\n",
    "        env = BinarySpaceToDiscreteSpaceEnv(env, SIMPLE_MOVEMENT)\n",
    "        return env\n",
    "    \n",
    "    def run(self, agent = None, max_frames = 2000):\n",
    "        env = self.env\n",
    "        if agent == None:\n",
    "            agent = env.action_space.sample\n",
    "        done = True\n",
    "        for step in range(max_frames):\n",
    "            if done:\n",
    "                state = env.reset()\n",
    "            state, reward, done, info = env.step(agent())\n",
    "            env.render()\n",
    "\n",
    "        env.close()\n",
    "    \n",
    "    \n",
    "class World:\n",
    "    \n",
    "    def __init__(self, no_versions = 1, version = 0):\n",
    "        \n",
    "        Envs = []\n",
    "        \n",
    "        for _ in range(no_versions):\n",
    "            Envs.append(Environment(version)) \n",
    "        self.Envs = Envs\n",
    "        \n",
    "    def run(self, agent = None, max_frames = 2000):\n",
    "        for Env in self.Envs:\n",
    "            Env.run(agent = agent, max_frames = max_frames)\n",
    "            \n",
    "    def run_para(self, agents = None, max_frames = 1000):\n",
    "        for Env in self.Envs:\n",
    "            Env.env.reset()\n",
    "\n",
    "        if agents == None:\n",
    "            agents = self.Envs[0].env.action_space.sample\n",
    "        \n",
    "        done = [False]*len(self.Envs)\n",
    "        \n",
    "        for step in range(max_frames):\n",
    "            for i, Env in enumerate(self.Envs):\n",
    "                env = Env.env\n",
    "                if not(done[i]):\n",
    "                    state, reward, done[i], info = env.step(agents())\n",
    "                    env.render()\n",
    "                else:\n",
    "                    env.close()\n",
    "                    \n",
    "        \n",
    "        for i, Env in enumerate(self.Envs):\n",
    "            env = Env.env\n",
    "            if not(done[i]):\n",
    "                env.close()\n",
    "\n",
    "    "
   ]
  },
  {
   "cell_type": "code",
   "execution_count": 2,
   "metadata": {},
   "outputs": [],
   "source": [
    "world = World(3, 0)"
   ]
  },
  {
   "cell_type": "code",
   "execution_count": 3,
   "metadata": {},
   "outputs": [],
   "source": [
    "world.run_para()"
   ]
  },
  {
   "cell_type": "code",
   "execution_count": null,
   "metadata": {},
   "outputs": [],
   "source": []
  }
 ],
 "metadata": {
  "kernelspec": {
   "display_name": "Python 3",
   "language": "python",
   "name": "python3"
  },
  "language_info": {
   "codemirror_mode": {
    "name": "ipython",
    "version": 3
   },
   "file_extension": ".py",
   "mimetype": "text/x-python",
   "name": "python",
   "nbconvert_exporter": "python",
   "pygments_lexer": "ipython3",
   "version": "3.5.5"
  }
 },
 "nbformat": 4,
 "nbformat_minor": 2
}
