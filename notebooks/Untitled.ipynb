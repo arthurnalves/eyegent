{
 "cells": [
  {
   "cell_type": "code",
   "execution_count": 3,
   "metadata": {},
   "outputs": [
    {
     "name": "stderr",
     "output_type": "stream",
     "text": [
      "Using TensorFlow backend.\n"
     ]
    }
   ],
   "source": [
    "import sys\n",
    "# Adding eyenes folder to path\n",
    "sys.path.insert(1, 'C://Users//arthu//git//eyenes')\n",
    "\n",
    "from eyenes.agent import Agent\n",
    "from eyenes.agent_model import AgentModel"
   ]
  },
  {
   "cell_type": "code",
   "execution_count": 208,
   "metadata": {},
   "outputs": [],
   "source": [
    "import keras\n",
    "from keras.models import Sequential\n",
    "from keras.layers import Dense\n",
    "\n",
    "from keras.models import Sequential, Model\n",
    "from keras.layers import Dense, Conv2D, LSTM, MaxPooling2D, AveragePooling2D, ZeroPadding2D, Flatten, Reshape\n",
    "from keras.layers import Softmax, Input, Concatenate, Embedding, Activation, Lambda, Input\n",
    "from keras.utils import to_categorical\n",
    "from keras.optimizers import RMSprop\n",
    "from keras.models import model_from_json\n",
    "from keras.initializers import glorot_uniform\n",
    "\n",
    "import numpy as np\n",
    "\n",
    "\n",
    "class AgentModel:\n",
    "    \n",
    "    model = None\n",
    "    eye_model = None\n",
    "    action_model = None\n",
    "    input_shape = None\n",
    "    output_dim = None\n",
    "    activation = None\n",
    "    buffer = None\n",
    "    eye_output_dim = None\n",
    "    \n",
    "    def __init__(self, buffer, input_shape, output_dim, activation = 'relu'):\n",
    "        self.buffer = buffer\n",
    "        self.input_shape = input_shape\n",
    "        self.output_dim = output_dim\n",
    "        self.activation = activation\n",
    "        self.eye_output_dim = 64\n",
    "        self.start_model()\n",
    "        \n",
    "    \n",
    "    def start_eye_model(self):\n",
    "        w, h, _ = self.input_shape\n",
    "        max_dim = max([w,h])\n",
    "        activation = self.activation\n",
    "\n",
    "        conv_model = Sequential()\n",
    "\n",
    "        conv_model.add(Lambda(lambda x: x/255., input_shape = self.input_shape))        \n",
    "        conv_model.add(ZeroPadding2D(padding = ((max_dim - w)//2, (max_dim - h)//2)))\n",
    "        conv_model.add(MaxPooling2D((8,8)))\n",
    "\n",
    "        conv_model.add(Conv2D(4, 4, strides=(2, 2), padding=\"same\", activation=activation))\n",
    "        conv_model.add(Conv2D(8, 4, strides=(2, 2), padding=\"same\", activation=activation))\n",
    "        conv_model.add(Conv2D(16,4, strides=(2, 2), padding=\"same\", activation=activation))\n",
    "\n",
    "        conv_model.add(Flatten())\n",
    "        conv_model.add(Dense(self.eye_output_dim, activation= activation))\n",
    "        \n",
    "        self.eye_model = conv_model\n",
    "    \n",
    "    def start_action_model(self):\n",
    "        \n",
    "        output_imgs = []\n",
    "        for i in range(self.buffer):\n",
    "            output_imgs.append(Input((self.eye_output_dim,)))\n",
    "        \n",
    "        output = Concatenate(axis = -1)(output_imgs)\n",
    "        output = Reshape([self.buffer, self.eye_output_dim])(output)\n",
    "        output = LSTM(self.eye_output_dim, activation = 'softmax')(output)\n",
    "        output = Dense(self.output_dim, activation = self.activation)(output)\n",
    "        \n",
    "        self.action_model = Model(inputs = output_imgs, outputs = output)\n",
    "        \n",
    "    def start_model(self):\n",
    "        if self.eye_model == None:\n",
    "            self.start_eye_model()\n",
    "        \n",
    "        if self.action_model == None:\n",
    "            self.start_action_model()\n",
    "            \n",
    "        input_imgs = []\n",
    "        for i in range(self.buffer):\n",
    "            input_imgs.append(Input(self.input_shape))\n",
    "\n",
    "        output_imgs = []\n",
    "        for input_img in input_imgs:\n",
    "            output_img = input_img\n",
    "            for layer in self.eye_model.layers:\n",
    "                output_img = layer(output_img)\n",
    "            output_imgs.append(output_img)\n",
    "            \n",
    "        output = output_imgs\n",
    "        for layer in self.action_model.layers:\n",
    "            output = layer(output)\n",
    "            \n",
    "        self.model = Model(inputs = input_imgs, outputs = output)        \n",
    "        \n",
    "    def mutate(self, freq, intensity):\n",
    "        mutated_weights = []\n",
    "        for weight in self.model.get_weights():\n",
    "            A = np.random.choice([0,1], p=[1-freq, freq], size = np.shape(weight))\n",
    "            A = A*intensity\n",
    "            glorot = glorot_uniform().__call__(np.shape(weight))\n",
    "            mutated_weights.append(A*glorot + weight)\n",
    "            \n",
    "        self.model.set_weights(mutated_weights)\n",
    "            \n",
    "    def summary(self):\n",
    "        return self.model.summary()\n",
    "    \n",
    "    def get_weights(self):\n",
    "        return self.model.get_weights()\n",
    "    \n",
    "    def set_weights(self, weights):\n",
    "        return self.model.set_weights(weights)\n",
    "    \n",
    "    def predict(self, inputs):\n",
    "        return self.model.predict(inputs)\n"
   ]
  },
  {
   "cell_type": "code",
   "execution_count": 372,
   "metadata": {},
   "outputs": [],
   "source": [
    "from nes_py.wrappers import JoypadSpace\n",
    "import gym_super_mario_bros\n",
    "from gym_super_mario_bros.actions import SIMPLE_MOVEMENT\n",
    "from gym import wrappers\n",
    "from IPython.display import Video\n",
    "import io\n",
    "import base64\n",
    "from IPython.display import HTML\n",
    "import numpy as np\n",
    "from collections import deque\n",
    "import numpy as np\n",
    "import matplotlib.pyplot as plt\n",
    "from mpl_toolkits.axes_grid1 import ImageGrid\n",
    "import copy\n",
    "\n",
    "class Agent:\n",
    "    \n",
    "    eyemodel = None\n",
    "    model = None\n",
    "    state = None\n",
    "    total_reward = None\n",
    "    reward = None\n",
    "    done = None\n",
    "    info = None\n",
    "    next_state = None\n",
    "    update = None\n",
    "    buffer = None\n",
    "    freq = None\n",
    "    intensity = None\n",
    "    env = None\n",
    "    ID = None\n",
    "    lineage = None\n",
    "    max_steps = None\n",
    "    fps = None\n",
    "    lazy_penalty = None\n",
    "    \n",
    "    def __init__(self, ID = -1, update = ['reward'], buffer = 3, max_steps = 500, freq = .25, intensity = .25, fps = 5):\n",
    "        \n",
    "        self.buffer = buffer\n",
    "        self.freq = freq\n",
    "        self.intensity = intensity\n",
    "        self.env = self.make_env()\n",
    "        self.start_model()\n",
    "        self.update = update\n",
    "        self.state = deque(maxlen = buffer*fps + 1)\n",
    "        self.ID = ID\n",
    "        self.max_steps = max_steps\n",
    "        self.lineage = []\n",
    "        self.fps = fps\n",
    "        self.lazy_penalty = -30\n",
    "        self.death_penalty = -50\n",
    "        for _ in range(buffer):\n",
    "            self.state.append(np.zeros(self.env.observation_space.shape))\n",
    "        \n",
    "        \n",
    "    def make_env(self, mode = None, rom_id = 'SuperMarioBros-v0'):\n",
    "        env = gym_super_mario_bros.make(rom_id)\n",
    "        env = JoypadSpace(env, SIMPLE_MOVEMENT)\n",
    "        if mode == 'monitor':\n",
    "            env = wrappers.Monitor(env, directory, force = True)\n",
    "        return env \n",
    "    \n",
    "    def start_model(self):\n",
    "        env = self.make_env()\n",
    "        self.model = AgentModel(buffer = self.buffer, input_shape = env.observation_space.shape, output_dim = env.action_space.n)\n",
    "    \n",
    "    def get_buffered_images(self):\n",
    "        buffered_states = []\n",
    "        for i in range(self.buffer):\n",
    "            buffered_states.append(self.state[(i + 1)*self.fps - 1])\n",
    "        return buffered_states\n",
    "    \n",
    "    def take_action(self):\n",
    "        input_imgs = []\n",
    "        for input_img in self.get_buffered_images():\n",
    "            input_imgs.append(np.expand_dims(input_img, axis = 0))\n",
    "        prediction = self.model.predict(input_imgs)\n",
    "        return np.argmax(prediction)\n",
    "\n",
    "    def reset_data(self):\n",
    "        for i in range(self.buffer*self.fps + 1):\n",
    "            self.state.append(np.zeros(self.env.observation_space.shape))\n",
    "        self.total_reward = 0\n",
    "        self.reward = []\n",
    "        self.done = []\n",
    "        self.info = dict()\n",
    "        self.next_state = []\n",
    "    \n",
    "    def gather_data(self, step, state, reward, done, info, next_state):\n",
    "        self.total_reward += reward\n",
    "        if step%self.fps == 0:\n",
    "            self.state.append(np.array(state))\n",
    "\n",
    "    def run(self, max_steps = 500, mode = None, directory = './gym-results/'):    \n",
    "        env = self.make_env(mode = mode)\n",
    "        self.reset_data()\n",
    "        \n",
    "        patience = 3\n",
    "        resting = 0\n",
    "        x_pos = 0\n",
    "        state = env.reset()\n",
    "        prev_state = state\n",
    "        done = False\n",
    "        for step in range(max_steps):\n",
    "\n",
    "            if step%self.fps == 0:\n",
    "                action = self.take_action()\n",
    "                \n",
    "            next_state, reward, done, info = env.step(action)\n",
    "                            \n",
    "            if info['x_pos'] > x_pos:\n",
    "                x_pos = info['x_pos']\n",
    "                resting = 0\n",
    "                \n",
    "            if abs(info['x_pos'] - x_pos) < 5:\n",
    "                resting += 1\n",
    "                \n",
    "            if resting > patience*60:\n",
    "                self.total_reward += self.lazy_penalty\n",
    "                break\n",
    "                \n",
    "            if info['life'] < 2: \n",
    "                self.total_reward += self.death_penalty\n",
    "                break\n",
    "\n",
    "            self.gather_data(step, state, reward, done, info, next_state)\n",
    "            prev_state = state\n",
    "            state = next_state\n",
    "\n",
    "            if mode == 'render':\n",
    "                env.render()\n",
    "\n",
    "        if mode == 'monitor':\n",
    "            file_name = directory + 'openaigym.video.%s.video000000.mp4'% env.file_infix\n",
    "            mp4 = Video(file_name, width = 600, height = 450)\n",
    "            display(mp4)\n",
    "\n",
    "        if mode == 'render':    \n",
    "            env.close()\n",
    "    \n",
    "    def get_reward(self):\n",
    "        if self.total_reward == None:\n",
    "            self.run()\n",
    "        return self.total_reward\n",
    "\n",
    "    def itsame(self):\n",
    "        return 'Mario!'\n",
    "    \n",
    "    def copy_model(self, other, new_ID):\n",
    "        self.ID = new_ID\n",
    "        self.lineage = copy.copy(other.lineage)\n",
    "        if other.ID not in self.lineage:\n",
    "            self.lineage.append(other.ID)\n",
    "            \n",
    "        self.model.set_weights(other.model.get_weights())\n",
    "\n",
    "    def mutate(self):\n",
    "        self.model.mutate(freq = self.freq, intensity = self.intensity)\n",
    "        self.total_reward = None\n",
    "        \n",
    "    def print_state(self):\n",
    "        fig = plt.figure(figsize=(16., 12.))\n",
    "        grid = ImageGrid(fig, 111,  # similar to subplot(111)\n",
    "                         nrows_ncols=(1, self.buffer),  # creates 2x2 grid of axes\n",
    "                         axes_pad=0.1,)  # pad between axes in inch.\n",
    "\n",
    "        \n",
    "        for ax, im in zip(grid, self.get_buffered_images()):\n",
    "            # Iterating over the grid returns the Axes.\n",
    "            ax.imshow(im)\n",
    "            ax.set_xticklabels([])\n",
    "            ax.set_yticklabels([])\n",
    "        plt.show()\n"
   ]
  },
  {
   "cell_type": "code",
   "execution_count": 373,
   "metadata": {},
   "outputs": [],
   "source": [
    "agent = Agent(ID = 0, buffer = 3, fps = 3)"
   ]
  },
  {
   "cell_type": "code",
   "execution_count": 374,
   "metadata": {},
   "outputs": [],
   "source": [
    "agent.run(mode = 'render')"
   ]
  },
  {
   "cell_type": "code",
   "execution_count": 375,
   "metadata": {},
   "outputs": [
    {
     "data": {
      "text/plain": [
       "(10, 240, 256, 3)"
      ]
     },
     "execution_count": 375,
     "metadata": {},
     "output_type": "execute_result"
    }
   ],
   "source": [
    "np.shape(agent.state)"
   ]
  },
  {
   "cell_type": "code",
   "execution_count": 376,
   "metadata": {},
   "outputs": [
    {
     "data": {
      "image/png": "[encoded data removed]",
      "text/plain": [
       "<Figure size 1152x864 with 6 Axes>"
      ]
     },
     "metadata": {
      "needs_background": "light"
     },
     "output_type": "display_data"
    }
   ],
   "source": [
    "agent.print_state()"
   ]
  },
  {
   "cell_type": "code",
   "execution_count": 192,
   "metadata": {},
   "outputs": [],
   "source": [
    "generation = [Agent(ID = i) for i in range(10)]"
   ]
  },
  {
   "cell_type": "code",
   "execution_count": 210,
   "metadata": {},
   "outputs": [],
   "source": [
    "agent = Agent()"
   ]
  },
  {
   "cell_type": "code",
   "execution_count": 212,
   "metadata": {},
   "outputs": [
    {
     "data": {
      "image/png": "[encoded data removed]",
      "text/plain": [
       "<Figure size 432x288 with 1 Axes>"
      ]
     },
     "metadata": {
      "needs_background": "light"
     },
     "output_type": "display_data"
    }
   ],
   "source": [
    "from IPython.display import clear_output\n",
    "\n",
    "reward_history = []\n",
    "\n",
    "for i in range(100):\n",
    "    reward = agent.get_reward()\n",
    "    reward_history.append(reward)\n",
    "    agent.mutate()\n",
    "    clear_output(wait = True)\n",
    "    plt.plot(reward_history)\n",
    "    plt.show()"
   ]
  },
  {
   "cell_type": "code",
   "execution_count": 214,
   "metadata": {},
   "outputs": [
    {
     "data": {
      "image/png": "[encoded data removed]",
      "text/plain": [
       "<Figure size 432x288 with 1 Axes>"
      ]
     },
     "metadata": {
      "needs_background": "light"
     },
     "output_type": "display_data"
    }
   ],
   "source": [
    "from IPython.display import clear_output\n",
    "\n",
    "reward_history = []\n",
    "\n",
    "for i in range(100):\n",
    "    reward = agent.get_reward()\n",
    "    reward_history.append(reward)\n",
    "    agent = Agent()\n",
    "    clear_output(wait = True)\n",
    "    plt.plot(reward_history)\n",
    "    plt.show()"
   ]
  },
  {
   "cell_type": "code",
   "execution_count": null,
   "metadata": {},
   "outputs": [],
   "source": [
    "agent."
   ]
  }
 ],
 "metadata": {
  "kernelspec": {
   "display_name": "Python 3",
   "language": "python",
   "name": "python3"
  },
  "language_info": {
   "codemirror_mode": {
    "name": "ipython",
    "version": 3
   },
   "file_extension": ".py",
   "mimetype": "text/x-python",
   "name": "python",
   "nbconvert_exporter": "python",
   "pygments_lexer": "ipython3",
   "version": "3.7.4"
  }
 },
 "nbformat": 4,
 "nbformat_minor": 2
}
